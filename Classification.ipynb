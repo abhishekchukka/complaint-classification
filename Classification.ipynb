{
  "cells": [
    {
      "cell_type": "code",
      "execution_count": 1,
      "metadata": {
        "colab": {
          "base_uri": "https://localhost:8080/"
        },
        "id": "BzY-qIqHf7BZ",
        "outputId": "ba67a7a8-3760-4c2c-b218-ff837a660cbb"
      },
      "outputs": [
        {
          "output_type": "stream",
          "name": "stdout",
          "text": [
            "Requirement already satisfied: gensim in /usr/local/lib/python3.11/dist-packages (4.3.3)\n",
            "Requirement already satisfied: numpy<2.0,>=1.18.5 in /usr/local/lib/python3.11/dist-packages (from gensim) (1.26.4)\n",
            "Requirement already satisfied: scipy<1.14.0,>=1.7.0 in /usr/local/lib/python3.11/dist-packages (from gensim) (1.13.1)\n",
            "Requirement already satisfied: smart-open>=1.8.1 in /usr/local/lib/python3.11/dist-packages (from gensim) (7.3.0.post1)\n",
            "Requirement already satisfied: wrapt in /usr/local/lib/python3.11/dist-packages (from smart-open>=1.8.1->gensim) (1.17.2)\n"
          ]
        }
      ],
      "source": [
        "import pandas as pd\n",
        "import numpy as np\n",
        "import torch\n",
        "from collections import Counter\n",
        "!pip install gensim\n",
        "from gensim.models import Word2Vec\n",
        "from gensim.models import KeyedVectors"
      ]
    },
    {
      "cell_type": "code",
      "execution_count": 2,
      "metadata": {
        "colab": {
          "base_uri": "https://localhost:8080/"
        },
        "id": "eOYscDvaKJ1D",
        "outputId": "10c6c525-6cda-4bad-da96-0851af9616ca"
      },
      "outputs": [
        {
          "output_type": "stream",
          "name": "stdout",
          "text": [
            "Mounted at /content/drive\n"
          ]
        }
      ],
      "source": [
        "from google.colab import drive\n",
        "drive.mount('/content/drive')"
      ]
    },
    {
      "cell_type": "code",
      "execution_count": 3,
      "metadata": {
        "id": "vbG4p3jIgoLE"
      },
      "outputs": [],
      "source": [
        "data=pd.read_csv(\"/content/drive/MyDrive/PHOTOS FOR PPT/finalv3.csv\")"
      ]
    },
    {
      "cell_type": "code",
      "execution_count": 4,
      "metadata": {
        "colab": {
          "base_uri": "https://localhost:8080/"
        },
        "id": "F4jYxkOqXqTr",
        "outputId": "3e7be87b-b673-4c00-d40d-181c3e61e621"
      },
      "outputs": [
        {
          "output_type": "stream",
          "name": "stdout",
          "text": [
            "Using device: cuda\n"
          ]
        }
      ],
      "source": [
        "device = torch.device('cuda' if torch.cuda.is_available() else 'cpu')\n",
        "print(f\"Using device: {device}\")\n"
      ]
    },
    {
      "cell_type": "code",
      "execution_count": 5,
      "metadata": {
        "colab": {
          "base_uri": "https://localhost:8080/",
          "height": 363
        },
        "id": "fx51J0Ylg4cK",
        "outputId": "767fbfdd-1f86-49dc-e01c-f7eeef7b6cce"
      },
      "outputs": [
        {
          "output_type": "execute_result",
          "data": {
            "text/plain": [
              "                                      Complaint Text                Category\n",
              "0   Wi-Fi connectivity was poor throughout the stay.         Technical Issue\n",
              "1  Elevator at Marriott was stuck for several min...           Service Delay\n",
              "2              Insufficient staff at the front desk.  Customer Service Issue\n",
              "3  Taxi service arranged by the hotel overcharged...           Billing Issue\n",
              "4        Staff behavior was rude and unprofessional.  Customer Service Issue\n",
              "5            The lounge was overcrowded and unclean.        Room Cleanliness\n",
              "6      The elevators were malfunctioning frequently.    Facility Unavailable\n",
              "7  Billing amount at Marriott was incorrect at ch...           Billing Issue\n",
              "8            The lounge was overcrowded and unclean.        Room Cleanliness\n",
              "9                  Restaurant order was served cold.      Food Quality Issue"
            ],
            "text/html": [
              "\n",
              "  <div id=\"df-969eaf42-e280-487d-9f1f-0feeb3b9892f\" class=\"colab-df-container\">\n",
              "    <div>\n",
              "<style scoped>\n",
              "    .dataframe tbody tr th:only-of-type {\n",
              "        vertical-align: middle;\n",
              "    }\n",
              "\n",
              "    .dataframe tbody tr th {\n",
              "        vertical-align: top;\n",
              "    }\n",
              "\n",
              "    .dataframe thead th {\n",
              "        text-align: right;\n",
              "    }\n",
              "</style>\n",
              "<table border=\"1\" class=\"dataframe\">\n",
              "  <thead>\n",
              "    <tr style=\"text-align: right;\">\n",
              "      <th></th>\n",
              "      <th>Complaint Text</th>\n",
              "      <th>Category</th>\n",
              "    </tr>\n",
              "  </thead>\n",
              "  <tbody>\n",
              "    <tr>\n",
              "      <th>0</th>\n",
              "      <td>Wi-Fi connectivity was poor throughout the stay.</td>\n",
              "      <td>Technical Issue</td>\n",
              "    </tr>\n",
              "    <tr>\n",
              "      <th>1</th>\n",
              "      <td>Elevator at Marriott was stuck for several min...</td>\n",
              "      <td>Service Delay</td>\n",
              "    </tr>\n",
              "    <tr>\n",
              "      <th>2</th>\n",
              "      <td>Insufficient staff at the front desk.</td>\n",
              "      <td>Customer Service Issue</td>\n",
              "    </tr>\n",
              "    <tr>\n",
              "      <th>3</th>\n",
              "      <td>Taxi service arranged by the hotel overcharged...</td>\n",
              "      <td>Billing Issue</td>\n",
              "    </tr>\n",
              "    <tr>\n",
              "      <th>4</th>\n",
              "      <td>Staff behavior was rude and unprofessional.</td>\n",
              "      <td>Customer Service Issue</td>\n",
              "    </tr>\n",
              "    <tr>\n",
              "      <th>5</th>\n",
              "      <td>The lounge was overcrowded and unclean.</td>\n",
              "      <td>Room Cleanliness</td>\n",
              "    </tr>\n",
              "    <tr>\n",
              "      <th>6</th>\n",
              "      <td>The elevators were malfunctioning frequently.</td>\n",
              "      <td>Facility Unavailable</td>\n",
              "    </tr>\n",
              "    <tr>\n",
              "      <th>7</th>\n",
              "      <td>Billing amount at Marriott was incorrect at ch...</td>\n",
              "      <td>Billing Issue</td>\n",
              "    </tr>\n",
              "    <tr>\n",
              "      <th>8</th>\n",
              "      <td>The lounge was overcrowded and unclean.</td>\n",
              "      <td>Room Cleanliness</td>\n",
              "    </tr>\n",
              "    <tr>\n",
              "      <th>9</th>\n",
              "      <td>Restaurant order was served cold.</td>\n",
              "      <td>Food Quality Issue</td>\n",
              "    </tr>\n",
              "  </tbody>\n",
              "</table>\n",
              "</div>\n",
              "    <div class=\"colab-df-buttons\">\n",
              "\n",
              "  <div class=\"colab-df-container\">\n",
              "    <button class=\"colab-df-convert\" onclick=\"convertToInteractive('df-969eaf42-e280-487d-9f1f-0feeb3b9892f')\"\n",
              "            title=\"Convert this dataframe to an interactive table.\"\n",
              "            style=\"display:none;\">\n",
              "\n",
              "  <svg xmlns=\"http://www.w3.org/2000/svg\" height=\"24px\" viewBox=\"0 -960 960 960\">\n",
              "    <path d=\"M120-120v-720h720v720H120Zm60-500h600v-160H180v160Zm220 220h160v-160H400v160Zm0 220h160v-160H400v160ZM180-400h160v-160H180v160Zm440 0h160v-160H620v160ZM180-180h160v-160H180v160Zm440 0h160v-160H620v160Z\"/>\n",
              "  </svg>\n",
              "    </button>\n",
              "\n",
              "  <style>\n",
              "    .colab-df-container {\n",
              "      display:flex;\n",
              "      gap: 12px;\n",
              "    }\n",
              "\n",
              "    .colab-df-convert {\n",
              "      background-color: #E8F0FE;\n",
              "      border: none;\n",
              "      border-radius: 50%;\n",
              "      cursor: pointer;\n",
              "      display: none;\n",
              "      fill: #1967D2;\n",
              "      height: 32px;\n",
              "      padding: 0 0 0 0;\n",
              "      width: 32px;\n",
              "    }\n",
              "\n",
              "    .colab-df-convert:hover {\n",
              "      background-color: #E2EBFA;\n",
              "      box-shadow: 0px 1px 2px rgba(60, 64, 67, 0.3), 0px 1px 3px 1px rgba(60, 64, 67, 0.15);\n",
              "      fill: #174EA6;\n",
              "    }\n",
              "\n",
              "    .colab-df-buttons div {\n",
              "      margin-bottom: 4px;\n",
              "    }\n",
              "\n",
              "    [theme=dark] .colab-df-convert {\n",
              "      background-color: #3B4455;\n",
              "      fill: #D2E3FC;\n",
              "    }\n",
              "\n",
              "    [theme=dark] .colab-df-convert:hover {\n",
              "      background-color: #434B5C;\n",
              "      box-shadow: 0px 1px 3px 1px rgba(0, 0, 0, 0.15);\n",
              "      filter: drop-shadow(0px 1px 2px rgba(0, 0, 0, 0.3));\n",
              "      fill: #FFFFFF;\n",
              "    }\n",
              "  </style>\n",
              "\n",
              "    <script>\n",
              "      const buttonEl =\n",
              "        document.querySelector('#df-969eaf42-e280-487d-9f1f-0feeb3b9892f button.colab-df-convert');\n",
              "      buttonEl.style.display =\n",
              "        google.colab.kernel.accessAllowed ? 'block' : 'none';\n",
              "\n",
              "      async function convertToInteractive(key) {\n",
              "        const element = document.querySelector('#df-969eaf42-e280-487d-9f1f-0feeb3b9892f');\n",
              "        const dataTable =\n",
              "          await google.colab.kernel.invokeFunction('convertToInteractive',\n",
              "                                                    [key], {});\n",
              "        if (!dataTable) return;\n",
              "\n",
              "        const docLinkHtml = 'Like what you see? Visit the ' +\n",
              "          '<a target=\"_blank\" href=https://colab.research.google.com/notebooks/data_table.ipynb>data table notebook</a>'\n",
              "          + ' to learn more about interactive tables.';\n",
              "        element.innerHTML = '';\n",
              "        dataTable['output_type'] = 'display_data';\n",
              "        await google.colab.output.renderOutput(dataTable, element);\n",
              "        const docLink = document.createElement('div');\n",
              "        docLink.innerHTML = docLinkHtml;\n",
              "        element.appendChild(docLink);\n",
              "      }\n",
              "    </script>\n",
              "  </div>\n",
              "\n",
              "\n",
              "    <div id=\"df-cd18fde3-ecaa-4774-a8fd-b2d0d9794676\">\n",
              "      <button class=\"colab-df-quickchart\" onclick=\"quickchart('df-cd18fde3-ecaa-4774-a8fd-b2d0d9794676')\"\n",
              "                title=\"Suggest charts\"\n",
              "                style=\"display:none;\">\n",
              "\n",
              "<svg xmlns=\"http://www.w3.org/2000/svg\" height=\"24px\"viewBox=\"0 0 24 24\"\n",
              "     width=\"24px\">\n",
              "    <g>\n",
              "        <path d=\"M19 3H5c-1.1 0-2 .9-2 2v14c0 1.1.9 2 2 2h14c1.1 0 2-.9 2-2V5c0-1.1-.9-2-2-2zM9 17H7v-7h2v7zm4 0h-2V7h2v10zm4 0h-2v-4h2v4z\"/>\n",
              "    </g>\n",
              "</svg>\n",
              "      </button>\n",
              "\n",
              "<style>\n",
              "  .colab-df-quickchart {\n",
              "      --bg-color: #E8F0FE;\n",
              "      --fill-color: #1967D2;\n",
              "      --hover-bg-color: #E2EBFA;\n",
              "      --hover-fill-color: #174EA6;\n",
              "      --disabled-fill-color: #AAA;\n",
              "      --disabled-bg-color: #DDD;\n",
              "  }\n",
              "\n",
              "  [theme=dark] .colab-df-quickchart {\n",
              "      --bg-color: #3B4455;\n",
              "      --fill-color: #D2E3FC;\n",
              "      --hover-bg-color: #434B5C;\n",
              "      --hover-fill-color: #FFFFFF;\n",
              "      --disabled-bg-color: #3B4455;\n",
              "      --disabled-fill-color: #666;\n",
              "  }\n",
              "\n",
              "  .colab-df-quickchart {\n",
              "    background-color: var(--bg-color);\n",
              "    border: none;\n",
              "    border-radius: 50%;\n",
              "    cursor: pointer;\n",
              "    display: none;\n",
              "    fill: var(--fill-color);\n",
              "    height: 32px;\n",
              "    padding: 0;\n",
              "    width: 32px;\n",
              "  }\n",
              "\n",
              "  .colab-df-quickchart:hover {\n",
              "    background-color: var(--hover-bg-color);\n",
              "    box-shadow: 0 1px 2px rgba(60, 64, 67, 0.3), 0 1px 3px 1px rgba(60, 64, 67, 0.15);\n",
              "    fill: var(--button-hover-fill-color);\n",
              "  }\n",
              "\n",
              "  .colab-df-quickchart-complete:disabled,\n",
              "  .colab-df-quickchart-complete:disabled:hover {\n",
              "    background-color: var(--disabled-bg-color);\n",
              "    fill: var(--disabled-fill-color);\n",
              "    box-shadow: none;\n",
              "  }\n",
              "\n",
              "  .colab-df-spinner {\n",
              "    border: 2px solid var(--fill-color);\n",
              "    border-color: transparent;\n",
              "    border-bottom-color: var(--fill-color);\n",
              "    animation:\n",
              "      spin 1s steps(1) infinite;\n",
              "  }\n",
              "\n",
              "  @keyframes spin {\n",
              "    0% {\n",
              "      border-color: transparent;\n",
              "      border-bottom-color: var(--fill-color);\n",
              "      border-left-color: var(--fill-color);\n",
              "    }\n",
              "    20% {\n",
              "      border-color: transparent;\n",
              "      border-left-color: var(--fill-color);\n",
              "      border-top-color: var(--fill-color);\n",
              "    }\n",
              "    30% {\n",
              "      border-color: transparent;\n",
              "      border-left-color: var(--fill-color);\n",
              "      border-top-color: var(--fill-color);\n",
              "      border-right-color: var(--fill-color);\n",
              "    }\n",
              "    40% {\n",
              "      border-color: transparent;\n",
              "      border-right-color: var(--fill-color);\n",
              "      border-top-color: var(--fill-color);\n",
              "    }\n",
              "    60% {\n",
              "      border-color: transparent;\n",
              "      border-right-color: var(--fill-color);\n",
              "    }\n",
              "    80% {\n",
              "      border-color: transparent;\n",
              "      border-right-color: var(--fill-color);\n",
              "      border-bottom-color: var(--fill-color);\n",
              "    }\n",
              "    90% {\n",
              "      border-color: transparent;\n",
              "      border-bottom-color: var(--fill-color);\n",
              "    }\n",
              "  }\n",
              "</style>\n",
              "\n",
              "      <script>\n",
              "        async function quickchart(key) {\n",
              "          const quickchartButtonEl =\n",
              "            document.querySelector('#' + key + ' button');\n",
              "          quickchartButtonEl.disabled = true;  // To prevent multiple clicks.\n",
              "          quickchartButtonEl.classList.add('colab-df-spinner');\n",
              "          try {\n",
              "            const charts = await google.colab.kernel.invokeFunction(\n",
              "                'suggestCharts', [key], {});\n",
              "          } catch (error) {\n",
              "            console.error('Error during call to suggestCharts:', error);\n",
              "          }\n",
              "          quickchartButtonEl.classList.remove('colab-df-spinner');\n",
              "          quickchartButtonEl.classList.add('colab-df-quickchart-complete');\n",
              "        }\n",
              "        (() => {\n",
              "          let quickchartButtonEl =\n",
              "            document.querySelector('#df-cd18fde3-ecaa-4774-a8fd-b2d0d9794676 button');\n",
              "          quickchartButtonEl.style.display =\n",
              "            google.colab.kernel.accessAllowed ? 'block' : 'none';\n",
              "        })();\n",
              "      </script>\n",
              "    </div>\n",
              "\n",
              "    </div>\n",
              "  </div>\n"
            ],
            "application/vnd.google.colaboratory.intrinsic+json": {
              "type": "dataframe",
              "variable_name": "data",
              "summary": "{\n  \"name\": \"data\",\n  \"rows\": 21129,\n  \"fields\": [\n    {\n      \"column\": \"Complaint Text\",\n      \"properties\": {\n        \"dtype\": \"category\",\n        \"num_unique_values\": 110,\n        \"samples\": [\n          \"Room at Marriott had excessive humidity.\",\n          \"Discrepancies in minibar billing at Marriott.\",\n          \"Staff behavior was rude and unprofessional.\"\n        ],\n        \"semantic_type\": \"\",\n        \"description\": \"\"\n      }\n    },\n    {\n      \"column\": \"Category\",\n      \"properties\": {\n        \"dtype\": \"category\",\n        \"num_unique_values\": 11,\n        \"samples\": [\n          \"Facility Unavailable\",\n          \"Technical Issue\",\n          \"Room Facility Issue\"\n        ],\n        \"semantic_type\": \"\",\n        \"description\": \"\"\n      }\n    }\n  ]\n}"
            }
          },
          "metadata": {},
          "execution_count": 5
        }
      ],
      "source": [
        "data.head(10)"
      ]
    },
    {
      "cell_type": "code",
      "execution_count": 6,
      "metadata": {
        "colab": {
          "base_uri": "https://localhost:8080/"
        },
        "id": "IXjWF0qo-3Vn",
        "outputId": "a628fc62-ffb4-429a-ca8a-6456a0f4a025"
      },
      "outputs": [
        {
          "output_type": "execute_result",
          "data": {
            "text/plain": [
              "(21129, 2)"
            ]
          },
          "metadata": {},
          "execution_count": 6
        }
      ],
      "source": [
        "testing_categories= data[\"Complaint Text\"].unique()\n",
        "data.shape"
      ]
    },
    {
      "cell_type": "code",
      "execution_count": 7,
      "metadata": {
        "colab": {
          "base_uri": "https://localhost:8080/"
        },
        "id": "1c3R_gF1ANRV",
        "outputId": "873959b8-3d54-4119-aa0d-ab9c35c56a06"
      },
      "outputs": [
        {
          "output_type": "execute_result",
          "data": {
            "text/plain": [
              "array(['Technical Issue', 'Service Delay', 'Customer Service Issue',\n",
              "       'Billing Issue', 'Room Cleanliness', 'Facility Unavailable',\n",
              "       'Food Quality Issue', 'Booking Issue', 'Facility Issue',\n",
              "       'Room Facility Issue', 'Service Issue'], dtype=object)"
            ]
          },
          "metadata": {},
          "execution_count": 7
        }
      ],
      "source": [
        "data[\"Category\"].unique()\n"
      ]
    },
    {
      "cell_type": "code",
      "execution_count": 8,
      "metadata": {
        "colab": {
          "base_uri": "https://localhost:8080/"
        },
        "id": "3jJwqsCehHRW",
        "outputId": "c1572766-a018-440e-cfea-94ef87218a59"
      },
      "outputs": [
        {
          "output_type": "stream",
          "name": "stdout",
          "text": [
            "<class 'pandas.core.frame.DataFrame'>\n",
            "RangeIndex: 21129 entries, 0 to 21128\n",
            "Data columns (total 2 columns):\n",
            " #   Column          Non-Null Count  Dtype \n",
            "---  ------          --------------  ----- \n",
            " 0   Complaint Text  21129 non-null  object\n",
            " 1   Category        21129 non-null  object\n",
            "dtypes: object(2)\n",
            "memory usage: 330.3+ KB\n"
          ]
        }
      ],
      "source": [
        "data.info()"
      ]
    },
    {
      "cell_type": "code",
      "execution_count": 9,
      "metadata": {
        "colab": {
          "base_uri": "https://localhost:8080/",
          "height": 460
        },
        "id": "pwzZyvXIg57v",
        "outputId": "af5ead85-1d39-44a1-9f94-336dd1484b07"
      },
      "outputs": [
        {
          "output_type": "execute_result",
          "data": {
            "text/plain": [
              "Category\n",
              "Customer Service Issue    2090\n",
              "Booking Issue             2087\n",
              "Service Delay             2078\n",
              "Room Cleanliness          2056\n",
              "Billing Issue             2054\n",
              "Facility Unavailable      2028\n",
              "Facility Issue            1774\n",
              "Food Quality Issue        1764\n",
              "Service Issue             1734\n",
              "Room Facility Issue       1733\n",
              "Technical Issue           1731\n",
              "Name: count, dtype: int64"
            ],
            "text/html": [
              "<div>\n",
              "<style scoped>\n",
              "    .dataframe tbody tr th:only-of-type {\n",
              "        vertical-align: middle;\n",
              "    }\n",
              "\n",
              "    .dataframe tbody tr th {\n",
              "        vertical-align: top;\n",
              "    }\n",
              "\n",
              "    .dataframe thead th {\n",
              "        text-align: right;\n",
              "    }\n",
              "</style>\n",
              "<table border=\"1\" class=\"dataframe\">\n",
              "  <thead>\n",
              "    <tr style=\"text-align: right;\">\n",
              "      <th></th>\n",
              "      <th>count</th>\n",
              "    </tr>\n",
              "    <tr>\n",
              "      <th>Category</th>\n",
              "      <th></th>\n",
              "    </tr>\n",
              "  </thead>\n",
              "  <tbody>\n",
              "    <tr>\n",
              "      <th>Customer Service Issue</th>\n",
              "      <td>2090</td>\n",
              "    </tr>\n",
              "    <tr>\n",
              "      <th>Booking Issue</th>\n",
              "      <td>2087</td>\n",
              "    </tr>\n",
              "    <tr>\n",
              "      <th>Service Delay</th>\n",
              "      <td>2078</td>\n",
              "    </tr>\n",
              "    <tr>\n",
              "      <th>Room Cleanliness</th>\n",
              "      <td>2056</td>\n",
              "    </tr>\n",
              "    <tr>\n",
              "      <th>Billing Issue</th>\n",
              "      <td>2054</td>\n",
              "    </tr>\n",
              "    <tr>\n",
              "      <th>Facility Unavailable</th>\n",
              "      <td>2028</td>\n",
              "    </tr>\n",
              "    <tr>\n",
              "      <th>Facility Issue</th>\n",
              "      <td>1774</td>\n",
              "    </tr>\n",
              "    <tr>\n",
              "      <th>Food Quality Issue</th>\n",
              "      <td>1764</td>\n",
              "    </tr>\n",
              "    <tr>\n",
              "      <th>Service Issue</th>\n",
              "      <td>1734</td>\n",
              "    </tr>\n",
              "    <tr>\n",
              "      <th>Room Facility Issue</th>\n",
              "      <td>1733</td>\n",
              "    </tr>\n",
              "    <tr>\n",
              "      <th>Technical Issue</th>\n",
              "      <td>1731</td>\n",
              "    </tr>\n",
              "  </tbody>\n",
              "</table>\n",
              "</div><br><label><b>dtype:</b> int64</label>"
            ]
          },
          "metadata": {},
          "execution_count": 9
        }
      ],
      "source": [
        "data[\"Category\"].value_counts()"
      ]
    },
    {
      "cell_type": "code",
      "execution_count": 10,
      "metadata": {
        "colab": {
          "base_uri": "https://localhost:8080/",
          "height": 517
        },
        "id": "8bH1FjmJhAn9",
        "outputId": "1a428901-899c-4a6a-c3d5-9de4a05fc1cd"
      },
      "outputs": [
        {
          "output_type": "display_data",
          "data": {
            "text/plain": [
              "<Figure size 2000x600 with 1 Axes>"
            ],
            "image/png": "[encoded data removed]"
          },
          "metadata": {}
        }
      ],
      "source": [
        "import matplotlib.pyplot as plt\n",
        "import seaborn as sns\n",
        "plt.figure(figsize=(20, 6))\n",
        "sns.countplot(data=data, x='Category')\n",
        "plt.title('Distribution of Complaint Categories')\n",
        "plt.show()"
      ]
    },
    {
      "cell_type": "code",
      "execution_count": 11,
      "metadata": {
        "colab": {
          "base_uri": "https://localhost:8080/",
          "height": 466
        },
        "id": "BqJfGoN2hYoN",
        "outputId": "077745d6-9002-45e1-a553-2276ee40a0ab"
      },
      "outputs": [
        {
          "output_type": "execute_result",
          "data": {
            "text/plain": [
              "<Axes: xlabel='length', ylabel='Count'>"
            ]
          },
          "metadata": {},
          "execution_count": 11
        },
        {
          "output_type": "display_data",
          "data": {
            "text/plain": [
              "<Figure size 640x480 with 1 Axes>"
            ],
            "image/png": "[encoded data removed]"
          },
          "metadata": {}
        }
      ],
      "source": [
        "data[\"length\"] = data[\"Complaint Text\"].apply(lambda x: len(x.split()))\n",
        "sns.histplot(data[\"length\"])"
      ]
    },
    {
      "cell_type": "code",
      "execution_count": 12,
      "metadata": {
        "colab": {
          "base_uri": "https://localhost:8080/"
        },
        "id": "jILObzDfigGZ",
        "outputId": "9bd3efeb-446c-4877-cd0d-c8434dae602c"
      },
      "outputs": [
        {
          "output_type": "stream",
          "name": "stderr",
          "text": [
            "[nltk_data] Downloading package wordnet to /root/nltk_data...\n",
            "[nltk_data] Downloading package stopwords to /root/nltk_data...\n",
            "[nltk_data]   Unzipping corpora/stopwords.zip.\n"
          ]
        }
      ],
      "source": [
        "#text cleaning\n",
        "import nltk\n",
        "nltk.download('wordnet')\n",
        "from nltk.stem import WordNetLemmatizer\n",
        "from nltk.corpus import stopwords\n",
        "import re\n",
        "lemmatizer=WordNetLemmatizer()\n",
        "nltk.download(\"stopwords\")\n",
        "stopwords=stopwords.words(\"english\")\n",
        "data[\"lower\"]=data[\"Complaint Text\"].apply(lambda x: x.lower())\n",
        "data[\"punct_removed\"] =data[\"lower\"].apply(lambda x: re.sub(r'[^\\w\\s]' , '' , x))\n",
        "data[\"stopword_removed\"]=data[\"punct_removed\"].apply(lambda x : \" \".join([i for i in x.split() if i not in stopwords]))\n",
        "data[\"Lemmatized\"]=data[\"stopword_removed\"].apply(lambda x:\" \".join([lemmatizer.lemmatize(i) for i in x.split()]))"
      ]
    },
    {
      "cell_type": "code",
      "execution_count": 13,
      "metadata": {
        "colab": {
          "base_uri": "https://localhost:8080/",
          "height": 519
        },
        "id": "wK7Mk0vJkPG9",
        "outputId": "51ae034e-ea22-496b-e2b9-637abcca6ea1"
      },
      "outputs": [
        {
          "output_type": "execute_result",
          "data": {
            "text/plain": [
              "                                      Complaint Text                Category  \\\n",
              "0   Wi-Fi connectivity was poor throughout the stay.         Technical Issue   \n",
              "1  Elevator at Marriott was stuck for several min...           Service Delay   \n",
              "2              Insufficient staff at the front desk.  Customer Service Issue   \n",
              "3  Taxi service arranged by the hotel overcharged...           Billing Issue   \n",
              "4        Staff behavior was rude and unprofessional.  Customer Service Issue   \n",
              "5            The lounge was overcrowded and unclean.        Room Cleanliness   \n",
              "6      The elevators were malfunctioning frequently.    Facility Unavailable   \n",
              "7  Billing amount at Marriott was incorrect at ch...           Billing Issue   \n",
              "8            The lounge was overcrowded and unclean.        Room Cleanliness   \n",
              "9                  Restaurant order was served cold.      Food Quality Issue   \n",
              "\n",
              "   length                                              lower  \\\n",
              "0       7   wi-fi connectivity was poor throughout the stay.   \n",
              "1       8  elevator at marriott was stuck for several min...   \n",
              "2       6              insufficient staff at the front desk.   \n",
              "3       8  taxi service arranged by the hotel overcharged...   \n",
              "4       6        staff behavior was rude and unprofessional.   \n",
              "5       6            the lounge was overcrowded and unclean.   \n",
              "6       5      the elevators were malfunctioning frequently.   \n",
              "7       8  billing amount at marriott was incorrect at ch...   \n",
              "8       6            the lounge was overcrowded and unclean.   \n",
              "9       5                  restaurant order was served cold.   \n",
              "\n",
              "                                       punct_removed  \\\n",
              "0     wifi connectivity was poor throughout the stay   \n",
              "1  elevator at marriott was stuck for several min...   \n",
              "2               insufficient staff at the front desk   \n",
              "3  taxi service arranged by the hotel overcharged me   \n",
              "4         staff behavior was rude and unprofessional   \n",
              "5             the lounge was overcrowded and unclean   \n",
              "6       the elevators were malfunctioning frequently   \n",
              "7  billing amount at marriott was incorrect at ch...   \n",
              "8             the lounge was overcrowded and unclean   \n",
              "9                   restaurant order was served cold   \n",
              "\n",
              "                             stopword_removed  \\\n",
              "0      wifi connectivity poor throughout stay   \n",
              "1     elevator marriott stuck several minutes   \n",
              "2               insufficient staff front desk   \n",
              "3     taxi service arranged hotel overcharged   \n",
              "4          staff behavior rude unprofessional   \n",
              "5                  lounge overcrowded unclean   \n",
              "6         elevators malfunctioning frequently   \n",
              "7  billing amount marriott incorrect checkout   \n",
              "8                  lounge overcrowded unclean   \n",
              "9                restaurant order served cold   \n",
              "\n",
              "                                   Lemmatized  \n",
              "0      wifi connectivity poor throughout stay  \n",
              "1      elevator marriott stuck several minute  \n",
              "2               insufficient staff front desk  \n",
              "3     taxi service arranged hotel overcharged  \n",
              "4          staff behavior rude unprofessional  \n",
              "5                  lounge overcrowded unclean  \n",
              "6          elevator malfunctioning frequently  \n",
              "7  billing amount marriott incorrect checkout  \n",
              "8                  lounge overcrowded unclean  \n",
              "9                restaurant order served cold  "
            ],
            "text/html": [
              "\n",
              "  <div id=\"df-f06ac9e3-fa03-4877-adf4-d16782933f74\" class=\"colab-df-container\">\n",
              "    <div>\n",
              "<style scoped>\n",
              "    .dataframe tbody tr th:only-of-type {\n",
              "        vertical-align: middle;\n",
              "    }\n",
              "\n",
              "    .dataframe tbody tr th {\n",
              "        vertical-align: top;\n",
              "    }\n",
              "\n",
              "    .dataframe thead th {\n",
              "        text-align: right;\n",
              "    }\n",
              "</style>\n",
              "<table border=\"1\" class=\"dataframe\">\n",
              "  <thead>\n",
              "    <tr style=\"text-align: right;\">\n",
              "      <th></th>\n",
              "      <th>Complaint Text</th>\n",
              "      <th>Category</th>\n",
              "      <th>length</th>\n",
              "      <th>lower</th>\n",
              "      <th>punct_removed</th>\n",
              "      <th>stopword_removed</th>\n",
              "      <th>Lemmatized</th>\n",
              "    </tr>\n",
              "  </thead>\n",
              "  <tbody>\n",
              "    <tr>\n",
              "      <th>0</th>\n",
              "      <td>Wi-Fi connectivity was poor throughout the stay.</td>\n",
              "      <td>Technical Issue</td>\n",
              "      <td>7</td>\n",
              "      <td>wi-fi connectivity was poor throughout the stay.</td>\n",
              "      <td>wifi connectivity was poor throughout the stay</td>\n",
              "      <td>wifi connectivity poor throughout stay</td>\n",
              "      <td>wifi connectivity poor throughout stay</td>\n",
              "    </tr>\n",
              "    <tr>\n",
              "      <th>1</th>\n",
              "      <td>Elevator at Marriott was stuck for several min...</td>\n",
              "      <td>Service Delay</td>\n",
              "      <td>8</td>\n",
              "      <td>elevator at marriott was stuck for several min...</td>\n",
              "      <td>elevator at marriott was stuck for several min...</td>\n",
              "      <td>elevator marriott stuck several minutes</td>\n",
              "      <td>elevator marriott stuck several minute</td>\n",
              "    </tr>\n",
              "    <tr>\n",
              "      <th>2</th>\n",
              "      <td>Insufficient staff at the front desk.</td>\n",
              "      <td>Customer Service Issue</td>\n",
              "      <td>6</td>\n",
              "      <td>insufficient staff at the front desk.</td>\n",
              "      <td>insufficient staff at the front desk</td>\n",
              "      <td>insufficient staff front desk</td>\n",
              "      <td>insufficient staff front desk</td>\n",
              "    </tr>\n",
              "    <tr>\n",
              "      <th>3</th>\n",
              "      <td>Taxi service arranged by the hotel overcharged...</td>\n",
              "      <td>Billing Issue</td>\n",
              "      <td>8</td>\n",
              "      <td>taxi service arranged by the hotel overcharged...</td>\n",
              "      <td>taxi service arranged by the hotel overcharged me</td>\n",
              "      <td>taxi service arranged hotel overcharged</td>\n",
              "      <td>taxi service arranged hotel overcharged</td>\n",
              "    </tr>\n",
              "    <tr>\n",
              "      <th>4</th>\n",
              "      <td>Staff behavior was rude and unprofessional.</td>\n",
              "      <td>Customer Service Issue</td>\n",
              "      <td>6</td>\n",
              "      <td>staff behavior was rude and unprofessional.</td>\n",
              "      <td>staff behavior was rude and unprofessional</td>\n",
              "      <td>staff behavior rude unprofessional</td>\n",
              "      <td>staff behavior rude unprofessional</td>\n",
              "    </tr>\n",
              "    <tr>\n",
              "      <th>5</th>\n",
              "      <td>The lounge was overcrowded and unclean.</td>\n",
              "      <td>Room Cleanliness</td>\n",
              "      <td>6</td>\n",
              "      <td>the lounge was overcrowded and unclean.</td>\n",
              "      <td>the lounge was overcrowded and unclean</td>\n",
              "      <td>lounge overcrowded unclean</td>\n",
              "      <td>lounge overcrowded unclean</td>\n",
              "    </tr>\n",
              "    <tr>\n",
              "      <th>6</th>\n",
              "      <td>The elevators were malfunctioning frequently.</td>\n",
              "      <td>Facility Unavailable</td>\n",
              "      <td>5</td>\n",
              "      <td>the elevators were malfunctioning frequently.</td>\n",
              "      <td>the elevators were malfunctioning frequently</td>\n",
              "      <td>elevators malfunctioning frequently</td>\n",
              "      <td>elevator malfunctioning frequently</td>\n",
              "    </tr>\n",
              "    <tr>\n",
              "      <th>7</th>\n",
              "      <td>Billing amount at Marriott was incorrect at ch...</td>\n",
              "      <td>Billing Issue</td>\n",
              "      <td>8</td>\n",
              "      <td>billing amount at marriott was incorrect at ch...</td>\n",
              "      <td>billing amount at marriott was incorrect at ch...</td>\n",
              "      <td>billing amount marriott incorrect checkout</td>\n",
              "      <td>billing amount marriott incorrect checkout</td>\n",
              "    </tr>\n",
              "    <tr>\n",
              "      <th>8</th>\n",
              "      <td>The lounge was overcrowded and unclean.</td>\n",
              "      <td>Room Cleanliness</td>\n",
              "      <td>6</td>\n",
              "      <td>the lounge was overcrowded and unclean.</td>\n",
              "      <td>the lounge was overcrowded and unclean</td>\n",
              "      <td>lounge overcrowded unclean</td>\n",
              "      <td>lounge overcrowded unclean</td>\n",
              "    </tr>\n",
              "    <tr>\n",
              "      <th>9</th>\n",
              "      <td>Restaurant order was served cold.</td>\n",
              "      <td>Food Quality Issue</td>\n",
              "      <td>5</td>\n",
              "      <td>restaurant order was served cold.</td>\n",
              "      <td>restaurant order was served cold</td>\n",
              "      <td>restaurant order served cold</td>\n",
              "      <td>restaurant order served cold</td>\n",
              "    </tr>\n",
              "  </tbody>\n",
              "</table>\n",
              "</div>\n",
              "    <div class=\"colab-df-buttons\">\n",
              "\n",
              "  <div class=\"colab-df-container\">\n",
              "    <button class=\"colab-df-convert\" onclick=\"convertToInteractive('df-f06ac9e3-fa03-4877-adf4-d16782933f74')\"\n",
              "            title=\"Convert this dataframe to an interactive table.\"\n",
              "            style=\"display:none;\">\n",
              "\n",
              "  <svg xmlns=\"http://www.w3.org/2000/svg\" height=\"24px\" viewBox=\"0 -960 960 960\">\n",
              "    <path d=\"M120-120v-720h720v720H120Zm60-500h600v-160H180v160Zm220 220h160v-160H400v160Zm0 220h160v-160H400v160ZM180-400h160v-160H180v160Zm440 0h160v-160H620v160ZM180-180h160v-160H180v160Zm440 0h160v-160H620v160Z\"/>\n",
              "  </svg>\n",
              "    </button>\n",
              "\n",
              "  <style>\n",
              "    .colab-df-container {\n",
              "      display:flex;\n",
              "      gap: 12px;\n",
              "    }\n",
              "\n",
              "    .colab-df-convert {\n",
              "      background-color: #E8F0FE;\n",
              "      border: none;\n",
              "      border-radius: 50%;\n",
              "      cursor: pointer;\n",
              "      display: none;\n",
              "      fill: #1967D2;\n",
              "      height: 32px;\n",
              "      padding: 0 0 0 0;\n",
              "      width: 32px;\n",
              "    }\n",
              "\n",
              "    .colab-df-convert:hover {\n",
              "      background-color: #E2EBFA;\n",
              "      box-shadow: 0px 1px 2px rgba(60, 64, 67, 0.3), 0px 1px 3px 1px rgba(60, 64, 67, 0.15);\n",
              "      fill: #174EA6;\n",
              "    }\n",
              "\n",
              "    .colab-df-buttons div {\n",
              "      margin-bottom: 4px;\n",
              "    }\n",
              "\n",
              "    [theme=dark] .colab-df-convert {\n",
              "      background-color: #3B4455;\n",
              "      fill: #D2E3FC;\n",
              "    }\n",
              "\n",
              "    [theme=dark] .colab-df-convert:hover {\n",
              "      background-color: #434B5C;\n",
              "      box-shadow: 0px 1px 3px 1px rgba(0, 0, 0, 0.15);\n",
              "      filter: drop-shadow(0px 1px 2px rgba(0, 0, 0, 0.3));\n",
              "      fill: #FFFFFF;\n",
              "    }\n",
              "  </style>\n",
              "\n",
              "    <script>\n",
              "      const buttonEl =\n",
              "        document.querySelector('#df-f06ac9e3-fa03-4877-adf4-d16782933f74 button.colab-df-convert');\n",
              "      buttonEl.style.display =\n",
              "        google.colab.kernel.accessAllowed ? 'block' : 'none';\n",
              "\n",
              "      async function convertToInteractive(key) {\n",
              "        const element = document.querySelector('#df-f06ac9e3-fa03-4877-adf4-d16782933f74');\n",
              "        const dataTable =\n",
              "          await google.colab.kernel.invokeFunction('convertToInteractive',\n",
              "                                                    [key], {});\n",
              "        if (!dataTable) return;\n",
              "\n",
              "        const docLinkHtml = 'Like what you see? Visit the ' +\n",
              "          '<a target=\"_blank\" href=https://colab.research.google.com/notebooks/data_table.ipynb>data table notebook</a>'\n",
              "          + ' to learn more about interactive tables.';\n",
              "        element.innerHTML = '';\n",
              "        dataTable['output_type'] = 'display_data';\n",
              "        await google.colab.output.renderOutput(dataTable, element);\n",
              "        const docLink = document.createElement('div');\n",
              "        docLink.innerHTML = docLinkHtml;\n",
              "        element.appendChild(docLink);\n",
              "      }\n",
              "    </script>\n",
              "  </div>\n",
              "\n",
              "\n",
              "    <div id=\"df-5af73395-a3ca-4dca-95ad-ef2c7a1f0ddc\">\n",
              "      <button class=\"colab-df-quickchart\" onclick=\"quickchart('df-5af73395-a3ca-4dca-95ad-ef2c7a1f0ddc')\"\n",
              "                title=\"Suggest charts\"\n",
              "                style=\"display:none;\">\n",
              "\n",
              "<svg xmlns=\"http://www.w3.org/2000/svg\" height=\"24px\"viewBox=\"0 0 24 24\"\n",
              "     width=\"24px\">\n",
              "    <g>\n",
              "        <path d=\"M19 3H5c-1.1 0-2 .9-2 2v14c0 1.1.9 2 2 2h14c1.1 0 2-.9 2-2V5c0-1.1-.9-2-2-2zM9 17H7v-7h2v7zm4 0h-2V7h2v10zm4 0h-2v-4h2v4z\"/>\n",
              "    </g>\n",
              "</svg>\n",
              "      </button>\n",
              "\n",
              "<style>\n",
              "  .colab-df-quickchart {\n",
              "      --bg-color: #E8F0FE;\n",
              "      --fill-color: #1967D2;\n",
              "      --hover-bg-color: #E2EBFA;\n",
              "      --hover-fill-color: #174EA6;\n",
              "      --disabled-fill-color: #AAA;\n",
              "      --disabled-bg-color: #DDD;\n",
              "  }\n",
              "\n",
              "  [theme=dark] .colab-df-quickchart {\n",
              "      --bg-color: #3B4455;\n",
              "      --fill-color: #D2E3FC;\n",
              "      --hover-bg-color: #434B5C;\n",
              "      --hover-fill-color: #FFFFFF;\n",
              "      --disabled-bg-color: #3B4455;\n",
              "      --disabled-fill-color: #666;\n",
              "  }\n",
              "\n",
              "  .colab-df-quickchart {\n",
              "    background-color: var(--bg-color);\n",
              "    border: none;\n",
              "    border-radius: 50%;\n",
              "    cursor: pointer;\n",
              "    display: none;\n",
              "    fill: var(--fill-color);\n",
              "    height: 32px;\n",
              "    padding: 0;\n",
              "    width: 32px;\n",
              "  }\n",
              "\n",
              "  .colab-df-quickchart:hover {\n",
              "    background-color: var(--hover-bg-color);\n",
              "    box-shadow: 0 1px 2px rgba(60, 64, 67, 0.3), 0 1px 3px 1px rgba(60, 64, 67, 0.15);\n",
              "    fill: var(--button-hover-fill-color);\n",
              "  }\n",
              "\n",
              "  .colab-df-quickchart-complete:disabled,\n",
              "  .colab-df-quickchart-complete:disabled:hover {\n",
              "    background-color: var(--disabled-bg-color);\n",
              "    fill: var(--disabled-fill-color);\n",
              "    box-shadow: none;\n",
              "  }\n",
              "\n",
              "  .colab-df-spinner {\n",
              "    border: 2px solid var(--fill-color);\n",
              "    border-color: transparent;\n",
              "    border-bottom-color: var(--fill-color);\n",
              "    animation:\n",
              "      spin 1s steps(1) infinite;\n",
              "  }\n",
              "\n",
              "  @keyframes spin {\n",
              "    0% {\n",
              "      border-color: transparent;\n",
              "      border-bottom-color: var(--fill-color);\n",
              "      border-left-color: var(--fill-color);\n",
              "    }\n",
              "    20% {\n",
              "      border-color: transparent;\n",
              "      border-left-color: var(--fill-color);\n",
              "      border-top-color: var(--fill-color);\n",
              "    }\n",
              "    30% {\n",
              "      border-color: transparent;\n",
              "      border-left-color: var(--fill-color);\n",
              "      border-top-color: var(--fill-color);\n",
              "      border-right-color: var(--fill-color);\n",
              "    }\n",
              "    40% {\n",
              "      border-color: transparent;\n",
              "      border-right-color: var(--fill-color);\n",
              "      border-top-color: var(--fill-color);\n",
              "    }\n",
              "    60% {\n",
              "      border-color: transparent;\n",
              "      border-right-color: var(--fill-color);\n",
              "    }\n",
              "    80% {\n",
              "      border-color: transparent;\n",
              "      border-right-color: var(--fill-color);\n",
              "      border-bottom-color: var(--fill-color);\n",
              "    }\n",
              "    90% {\n",
              "      border-color: transparent;\n",
              "      border-bottom-color: var(--fill-color);\n",
              "    }\n",
              "  }\n",
              "</style>\n",
              "\n",
              "      <script>\n",
              "        async function quickchart(key) {\n",
              "          const quickchartButtonEl =\n",
              "            document.querySelector('#' + key + ' button');\n",
              "          quickchartButtonEl.disabled = true;  // To prevent multiple clicks.\n",
              "          quickchartButtonEl.classList.add('colab-df-spinner');\n",
              "          try {\n",
              "            const charts = await google.colab.kernel.invokeFunction(\n",
              "                'suggestCharts', [key], {});\n",
              "          } catch (error) {\n",
              "            console.error('Error during call to suggestCharts:', error);\n",
              "          }\n",
              "          quickchartButtonEl.classList.remove('colab-df-spinner');\n",
              "          quickchartButtonEl.classList.add('colab-df-quickchart-complete');\n",
              "        }\n",
              "        (() => {\n",
              "          let quickchartButtonEl =\n",
              "            document.querySelector('#df-5af73395-a3ca-4dca-95ad-ef2c7a1f0ddc button');\n",
              "          quickchartButtonEl.style.display =\n",
              "            google.colab.kernel.accessAllowed ? 'block' : 'none';\n",
              "        })();\n",
              "      </script>\n",
              "    </div>\n",
              "\n",
              "    </div>\n",
              "  </div>\n"
            ],
            "application/vnd.google.colaboratory.intrinsic+json": {
              "type": "dataframe",
              "variable_name": "data",
              "summary": "{\n  \"name\": \"data\",\n  \"rows\": 21129,\n  \"fields\": [\n    {\n      \"column\": \"Complaint Text\",\n      \"properties\": {\n        \"dtype\": \"category\",\n        \"num_unique_values\": 110,\n        \"samples\": [\n          \"Room at Marriott had excessive humidity.\",\n          \"Discrepancies in minibar billing at Marriott.\",\n          \"Staff behavior was rude and unprofessional.\"\n        ],\n        \"semantic_type\": \"\",\n        \"description\": \"\"\n      }\n    },\n    {\n      \"column\": \"Category\",\n      \"properties\": {\n        \"dtype\": \"category\",\n        \"num_unique_values\": 11,\n        \"samples\": [\n          \"Facility Unavailable\",\n          \"Technical Issue\",\n          \"Room Facility Issue\"\n        ],\n        \"semantic_type\": \"\",\n        \"description\": \"\"\n      }\n    },\n    {\n      \"column\": \"length\",\n      \"properties\": {\n        \"dtype\": \"number\",\n        \"std\": 1,\n        \"min\": 4,\n        \"max\": 13,\n        \"num_unique_values\": 10,\n        \"samples\": [\n          12,\n          8,\n          13\n        ],\n        \"semantic_type\": \"\",\n        \"description\": \"\"\n      }\n    },\n    {\n      \"column\": \"lower\",\n      \"properties\": {\n        \"dtype\": \"category\",\n        \"num_unique_values\": 110,\n        \"samples\": [\n          \"room at marriott had excessive humidity.\",\n          \"discrepancies in minibar billing at marriott.\",\n          \"staff behavior was rude and unprofessional.\"\n        ],\n        \"semantic_type\": \"\",\n        \"description\": \"\"\n      }\n    },\n    {\n      \"column\": \"punct_removed\",\n      \"properties\": {\n        \"dtype\": \"category\",\n        \"num_unique_values\": 110,\n        \"samples\": [\n          \"room at marriott had excessive humidity\",\n          \"discrepancies in minibar billing at marriott\",\n          \"staff behavior was rude and unprofessional\"\n        ],\n        \"semantic_type\": \"\",\n        \"description\": \"\"\n      }\n    },\n    {\n      \"column\": \"stopword_removed\",\n      \"properties\": {\n        \"dtype\": \"category\",\n        \"num_unique_values\": 109,\n        \"samples\": [\n          \"room marriott excessive humidity\",\n          \"discrepancies minibar billing marriott\",\n          \"staff behavior rude unprofessional\"\n        ],\n        \"semantic_type\": \"\",\n        \"description\": \"\"\n      }\n    },\n    {\n      \"column\": \"Lemmatized\",\n      \"properties\": {\n        \"dtype\": \"category\",\n        \"num_unique_values\": 109,\n        \"samples\": [\n          \"room marriott excessive humidity\",\n          \"discrepancy minibar billing marriott\",\n          \"staff behavior rude unprofessional\"\n        ],\n        \"semantic_type\": \"\",\n        \"description\": \"\"\n      }\n    }\n  ]\n}"
            }
          },
          "metadata": {},
          "execution_count": 13
        }
      ],
      "source": [
        "data.head(10)"
      ]
    },
    {
      "cell_type": "code",
      "execution_count": 14,
      "metadata": {
        "colab": {
          "base_uri": "https://localhost:8080/"
        },
        "id": "0pmAesl-QdwV",
        "outputId": "d6fdf36c-09a7-442e-ac4f-5eca3b67a5a8"
      },
      "outputs": [
        {
          "output_type": "execute_result",
          "data": {
            "text/plain": [
              "(21129, 7)"
            ]
          },
          "metadata": {},
          "execution_count": 14
        }
      ],
      "source": [
        "data.shape"
      ]
    },
    {
      "cell_type": "code",
      "execution_count": 15,
      "metadata": {
        "id": "ZAcdar9R0jWW"
      },
      "outputs": [],
      "source": [
        "df=pd.DataFrame(pd.Series(data[\"Lemmatized\"]))\n",
        "df[\"Category\"] = data[\"Category\"]\n",
        "X=df[\"Lemmatized\"]\n",
        "Y=df[\"Category\"]\n",
        "X_seq=data[\"lower\"]\n"
      ]
    },
    {
      "cell_type": "code",
      "execution_count": 16,
      "metadata": {
        "id": "9cEoimEokQv7"
      },
      "outputs": [],
      "source": [
        "from sklearn.model_selection import train_test_split\n",
        "x_train,x_test,y_train,y_test=train_test_split(X,Y,test_size=0.2,random_state=42)\n",
        "# x_seqTrain,x_seqTest,y_seqTrain,y_seqTest=train_test_split(X_seq,Y,test_size=0.2,random_state=42)"
      ]
    },
    {
      "cell_type": "code",
      "execution_count": 17,
      "metadata": {
        "colab": {
          "base_uri": "https://localhost:8080/"
        },
        "id": "wpyAmi3D1AlZ",
        "outputId": "5a7f0865-7e7c-4356-f113-ae82c68b92ae"
      },
      "outputs": [
        {
          "output_type": "stream",
          "name": "stdout",
          "text": [
            "X_train shape = (16903,)\n",
            "X_test shape = (4226,)\n",
            "Y_train shape = (16903,)\n",
            "Y_test shape = (4226,)\n"
          ]
        }
      ],
      "source": [
        "print(\"X_train shape =\",x_train.shape)\n",
        "print(\"X_test shape =\",x_test.shape)\n",
        "print(\"Y_train shape =\",y_train.shape)\n",
        "print(\"Y_test shape =\",y_test.shape)\n"
      ]
    },
    {
      "cell_type": "code",
      "execution_count": 18,
      "metadata": {
        "colab": {
          "base_uri": "https://localhost:8080/",
          "height": 458
        },
        "id": "Go0JWPQe1ViN",
        "outputId": "2176464b-9d53-476f-b451-bf2611fa42dc"
      },
      "outputs": [
        {
          "output_type": "execute_result",
          "data": {
            "text/plain": [
              "17430                           lounge overcrowded unclean\n",
              "9731                  credit card machine working checkout\n",
              "3984                      thermostat room working properly\n",
              "9427                        strong unpleasant odor hallway\n",
              "5836                             swimming pool operational\n",
              "                               ...                        \n",
              "11284                    checkout process excessively slow\n",
              "11964              taxi service arranged hotel overcharged\n",
              "5390                             swimming pool operational\n",
              "860                 wifi connectivity poor throughout stay\n",
              "15795    air conditioning made loud noise throughout night\n",
              "Name: Lemmatized, Length: 16903, dtype: object"
            ],
            "text/html": [
              "<div>\n",
              "<style scoped>\n",
              "    .dataframe tbody tr th:only-of-type {\n",
              "        vertical-align: middle;\n",
              "    }\n",
              "\n",
              "    .dataframe tbody tr th {\n",
              "        vertical-align: top;\n",
              "    }\n",
              "\n",
              "    .dataframe thead th {\n",
              "        text-align: right;\n",
              "    }\n",
              "</style>\n",
              "<table border=\"1\" class=\"dataframe\">\n",
              "  <thead>\n",
              "    <tr style=\"text-align: right;\">\n",
              "      <th></th>\n",
              "      <th>Lemmatized</th>\n",
              "    </tr>\n",
              "  </thead>\n",
              "  <tbody>\n",
              "    <tr>\n",
              "      <th>17430</th>\n",
              "      <td>lounge overcrowded unclean</td>\n",
              "    </tr>\n",
              "    <tr>\n",
              "      <th>9731</th>\n",
              "      <td>credit card machine working checkout</td>\n",
              "    </tr>\n",
              "    <tr>\n",
              "      <th>3984</th>\n",
              "      <td>thermostat room working properly</td>\n",
              "    </tr>\n",
              "    <tr>\n",
              "      <th>9427</th>\n",
              "      <td>strong unpleasant odor hallway</td>\n",
              "    </tr>\n",
              "    <tr>\n",
              "      <th>5836</th>\n",
              "      <td>swimming pool operational</td>\n",
              "    </tr>\n",
              "    <tr>\n",
              "      <th>...</th>\n",
              "      <td>...</td>\n",
              "    </tr>\n",
              "    <tr>\n",
              "      <th>11284</th>\n",
              "      <td>checkout process excessively slow</td>\n",
              "    </tr>\n",
              "    <tr>\n",
              "      <th>11964</th>\n",
              "      <td>taxi service arranged hotel overcharged</td>\n",
              "    </tr>\n",
              "    <tr>\n",
              "      <th>5390</th>\n",
              "      <td>swimming pool operational</td>\n",
              "    </tr>\n",
              "    <tr>\n",
              "      <th>860</th>\n",
              "      <td>wifi connectivity poor throughout stay</td>\n",
              "    </tr>\n",
              "    <tr>\n",
              "      <th>15795</th>\n",
              "      <td>air conditioning made loud noise throughout night</td>\n",
              "    </tr>\n",
              "  </tbody>\n",
              "</table>\n",
              "<p>16903 rows × 1 columns</p>\n",
              "</div><br><label><b>dtype:</b> object</label>"
            ]
          },
          "metadata": {},
          "execution_count": 18
        }
      ],
      "source": [
        "x_train"
      ]
    },
    {
      "cell_type": "code",
      "execution_count": 19,
      "metadata": {
        "colab": {
          "base_uri": "https://localhost:8080/"
        },
        "id": "c-hoBPlEbObn",
        "outputId": "8b0ba7f7-46c9-4eaa-ea23-6807c857c6af"
      },
      "outputs": [
        {
          "output_type": "execute_result",
          "data": {
            "text/plain": [
              "[['lounge', 'overcrowded', 'unclean'],\n",
              " ['credit', 'card', 'machine', 'working', 'checkout'],\n",
              " ['thermostat', 'room', 'working', 'properly'],\n",
              " ['strong', 'unpleasant', 'odor', 'hallway'],\n",
              " ['swimming', 'pool', 'operational']]"
            ]
          },
          "metadata": {},
          "execution_count": 19
        }
      ],
      "source": [
        "x_train_tokenized = [text.split() for text in x_train]\n",
        "x_train_tokenized[:5]"
      ]
    },
    {
      "cell_type": "code",
      "execution_count": 20,
      "metadata": {
        "id": "AdOYICMWbgOd"
      },
      "outputs": [],
      "source": [
        "VECTOR_SIZE = 100\n",
        "\n",
        "word2vec_model = Word2Vec(\n",
        "    sentences=x_train_tokenized,\n",
        "    vector_size=VECTOR_SIZE,\n",
        "    window=5,\n",
        "    min_count=1,\n",
        "    epochs=10\n",
        ")"
      ]
    },
    {
      "cell_type": "code",
      "execution_count": 21,
      "metadata": {
        "colab": {
          "base_uri": "https://localhost:8080/"
        },
        "id": "Sut96jdHcI4Z",
        "outputId": "6ef8fb4a-6384-4245-8ffc-e0bf33b0a5e5"
      },
      "outputs": [
        {
          "output_type": "execute_result",
          "data": {
            "text/plain": [
              "[('tv', 0.4528765380382538),\n",
              " ('channel', 0.42345181107521057),\n",
              " ('frequently', 0.4034137427806854),\n",
              " ('delivery', 0.3697167932987213),\n",
              " ('thermostat', 0.36803942918777466),\n",
              " ('television', 0.3650071620941162),\n",
              " ('properly', 0.3629949986934662),\n",
              " ('knocking', 0.35779905319213867),\n",
              " ('laundry', 0.3515174090862274),\n",
              " ('multiple', 0.34677499532699585)]"
            ]
          },
          "metadata": {},
          "execution_count": 21
        }
      ],
      "source": [
        "word2vec_model.wv.most_similar(\"room\")"
      ]
    },
    {
      "cell_type": "code",
      "execution_count": 22,
      "metadata": {
        "colab": {
          "base_uri": "https://localhost:8080/"
        },
        "id": "JOL7e8JXcNwU",
        "outputId": "49a5f7b7-701c-4d4b-8636-20cb486ac76f"
      },
      "outputs": [
        {
          "output_type": "stream",
          "name": "stdout",
          "text": [
            "(100,)\n"
          ]
        }
      ],
      "source": [
        "air=word2vec_model.wv[\"air\"]\n",
        "print(air.shape)"
      ]
    },
    {
      "cell_type": "code",
      "execution_count": 23,
      "metadata": {
        "id": "WTroRt88byNm"
      },
      "outputs": [],
      "source": [
        "#to get the features into a fixed dimension say 100\n",
        "def average_word_vectors_pretrained(words, model, num_features):\n",
        "    feature_vector = np.zeros((num_features,), dtype=\"float32\")\n",
        "    nwords = 0\n",
        "\n",
        "    for word in words:\n",
        "\n",
        "        word = word.lower()\n",
        "        if word in model:\n",
        "            nwords = nwords + 1\n",
        "            feature_vector = np.add(feature_vector, model[word])\n",
        "\n",
        "    if nwords:\n",
        "        feature_vector = np.divide(feature_vector, nwords)\n",
        "    return feature_vector"
      ]
    },
    {
      "cell_type": "code",
      "execution_count": 24,
      "metadata": {
        "id": "4GwQGZL_cdaX"
      },
      "outputs": [],
      "source": [
        "EMBEDDING_DIM = 100\n",
        "X_train_embeddings = np.array([average_word_vectors_pretrained(text.split(), word2vec_model.wv, EMBEDDING_DIM) for text in x_train])\n",
        "X_test_embeddings = np.array([average_word_vectors_pretrained(text.split(), word2vec_model.wv, EMBEDDING_DIM) for text in x_test])"
      ]
    },
    {
      "cell_type": "code",
      "execution_count": 25,
      "metadata": {
        "colab": {
          "base_uri": "https://localhost:8080/"
        },
        "id": "93kQWxA0mZVT",
        "outputId": "aaabd85e-14b1-4c1f-8ff8-dc5eef8a054d"
      },
      "outputs": [
        {
          "output_type": "execute_result",
          "data": {
            "text/plain": [
              "(16903, 100)"
            ]
          },
          "metadata": {},
          "execution_count": 25
        }
      ],
      "source": [
        "X_train_embeddings.shape"
      ]
    },
    {
      "cell_type": "code",
      "execution_count": 26,
      "metadata": {
        "id": "qZlm1EDemdEo"
      },
      "outputs": [],
      "source": [
        "from sklearn.preprocessing import LabelEncoder\n",
        "label_encoder = LabelEncoder()\n",
        "# y_seqTrain_encoded = label_encoder.fit_transform(y_seqTrain)\n",
        "# y_seqTest_encoded = label_encoder.transform(y_seqTest)\n",
        "y_train_encoded = label_encoder.fit_transform(y_train)\n",
        "y_test_encoded = label_encoder.transform(y_test)\n",
        "num_classes = len(label_encoder.classes_)\n",
        "unique_categories = label_encoder.classes_"
      ]
    },
    {
      "cell_type": "code",
      "execution_count": 27,
      "metadata": {
        "id": "ZndrQxEAoVxe"
      },
      "outputs": [],
      "source": [
        "import torch\n",
        "import torch.nn as nn\n",
        "import torch.optim as optim\n",
        "from torch.utils.data import DataLoader, Dataset\n",
        "class SimpleEmbeddingDataset(Dataset):\n",
        "    def __init__(self, embeddings, labels):\n",
        "        self.embeddings = torch.tensor(embeddings, dtype=torch.float32)\n",
        "        self.labels = torch.tensor(labels, dtype=torch.long)\n",
        "    def __len__(self):\n",
        "        return len(self.embeddings)\n",
        "    def __getitem__(self, idx):\n",
        "        return self.embeddings[idx], self.labels[idx]"
      ]
    },
    {
      "cell_type": "code",
      "execution_count": 28,
      "metadata": {
        "id": "qB49IN8xo1Ht"
      },
      "outputs": [],
      "source": [
        "train_dataset = SimpleEmbeddingDataset(X_train_embeddings, y_train_encoded)\n",
        "test_dataset = SimpleEmbeddingDataset(X_test_embeddings, y_test_encoded)"
      ]
    },
    {
      "cell_type": "code",
      "execution_count": 29,
      "metadata": {
        "id": "BEGFlAQ0o-SJ"
      },
      "outputs": [],
      "source": [
        "BATCH_SIZE = 32\n",
        "train_loader = DataLoader(train_dataset, batch_size=BATCH_SIZE, shuffle=True)\n",
        "test_loader = DataLoader(test_dataset, batch_size=BATCH_SIZE, shuffle=False)"
      ]
    },
    {
      "cell_type": "code",
      "execution_count": 30,
      "metadata": {
        "id": "GdU1DKgtqQQj"
      },
      "outputs": [],
      "source": [
        "class FeedForwardClassifier(nn.Module):\n",
        "  def __init__(self,input_dim , hidden_1_dim , hidden_2_dim , num_classes):\n",
        "    super().__init__()\n",
        "    self.fc1=nn.Linear(input_dim,hidden_1_dim)\n",
        "    self.relu=nn.ReLU()\n",
        "    self.fc2=nn.Linear(hidden_1_dim,hidden_2_dim)\n",
        "    self.fc3=nn.Linear(hidden_2_dim,num_classes)\n",
        "  def forward(self,x):\n",
        "    out=self.fc1(x)\n",
        "    out=self.relu(out)\n",
        "    out=self.fc2(out)\n",
        "    out=self.relu(out)\n",
        "    out=self.fc3(out)\n",
        "    return out"
      ]
    },
    {
      "cell_type": "code",
      "execution_count": 31,
      "metadata": {
        "id": "6SuX0SqxrPg7"
      },
      "outputs": [],
      "source": [
        "model = FeedForwardClassifier(\n",
        "    input_dim=EMBEDDING_DIM,\n",
        "    hidden_1_dim=128,\n",
        "    hidden_2_dim=64,\n",
        "    num_classes=num_classes\n",
        ").to(device)"
      ]
    },
    {
      "cell_type": "code",
      "execution_count": 32,
      "metadata": {
        "id": "b0Z46h2_rcxe"
      },
      "outputs": [],
      "source": [
        "from sklearn.utils import class_weight\n",
        "class_weights_np = class_weight.compute_class_weight(\n",
        "    'balanced',\n",
        "    classes=np.unique(y_train_encoded),\n",
        "    y=y_train_encoded\n",
        ")\n",
        "class_weights_tensor = torch.tensor(class_weights_np, dtype=torch.float)"
      ]
    },
    {
      "cell_type": "code",
      "execution_count": 33,
      "metadata": {
        "id": "QjxAqEczr8nE"
      },
      "outputs": [],
      "source": [
        "criterion = nn.CrossEntropyLoss(weight=class_weights_tensor.to(device))\n",
        "optimizer = optim.Adam(model.parameters(), lr=0.001)"
      ]
    },
    {
      "cell_type": "code",
      "execution_count": 34,
      "metadata": {
        "colab": {
          "base_uri": "https://localhost:8080/"
        },
        "id": "2jV2PdP4sI-i",
        "outputId": "6058f220-a4b2-4591-bb7f-1bbe708ca799"
      },
      "outputs": [
        {
          "output_type": "stream",
          "name": "stdout",
          "text": [
            "\n",
            "Starting Training for Baseline Model...\n",
            "Epoch: 01 | Train Loss: 0.9051 | Train Acc: 81.84% | Val. Loss: 0.6519 | Val. Acc: 89.07%\n",
            "  --> Saved best model at Epoch 1\n",
            "Epoch: 02 | Train Loss: 0.6297 | Train Acc: 89.06% | Val. Loss: 0.6114 | Val. Acc: 89.73%\n",
            "  --> Saved best model at Epoch 2\n",
            "Epoch: 03 | Train Loss: 0.6022 | Train Acc: 89.60% | Val. Loss: 0.5857 | Val. Acc: 89.92%\n",
            "  --> Saved best model at Epoch 3\n",
            "Epoch: 04 | Train Loss: 0.5887 | Train Acc: 89.84% | Val. Loss: 0.5802 | Val. Acc: 89.92%\n",
            "  --> Saved best model at Epoch 4\n",
            "Epoch: 05 | Train Loss: 0.5816 | Train Acc: 89.89% | Val. Loss: 0.5788 | Val. Acc: 89.92%\n",
            "  --> Saved best model at Epoch 5\n",
            "Epoch: 06 | Train Loss: 0.5750 | Train Acc: 89.90% | Val. Loss: 0.5760 | Val. Acc: 89.92%\n",
            "  --> Saved best model at Epoch 6\n",
            "Epoch: 07 | Train Loss: 0.5736 | Train Acc: 89.90% | Val. Loss: 0.5776 | Val. Acc: 89.92%\n",
            "Epoch: 08 | Train Loss: 0.5717 | Train Acc: 89.90% | Val. Loss: 0.5705 | Val. Acc: 89.92%\n",
            "  --> Saved best model at Epoch 8\n",
            "Epoch: 09 | Train Loss: 0.5687 | Train Acc: 89.90% | Val. Loss: 0.5868 | Val. Acc: 89.92%\n",
            "Epoch: 10 | Train Loss: 0.5688 | Train Acc: 89.90% | Val. Loss: 0.5845 | Val. Acc: 89.92%\n",
            "Epoch: 11 | Train Loss: 0.5663 | Train Acc: 89.90% | Val. Loss: 0.5735 | Val. Acc: 89.92%\n",
            "Epoch: 12 | Train Loss: 0.5665 | Train Acc: 89.90% | Val. Loss: 0.5731 | Val. Acc: 89.92%\n",
            "Epoch: 13 | Train Loss: 0.5650 | Train Acc: 89.90% | Val. Loss: 0.5805 | Val. Acc: 89.92%\n",
            "Epoch: 14 | Train Loss: 0.5657 | Train Acc: 89.90% | Val. Loss: 0.5734 | Val. Acc: 89.92%\n",
            "Epoch: 15 | Train Loss: 0.5636 | Train Acc: 89.90% | Val. Loss: 0.5731 | Val. Acc: 89.92%\n",
            "Epoch: 16 | Train Loss: 0.5633 | Train Acc: 89.90% | Val. Loss: 0.5715 | Val. Acc: 89.92%\n",
            "Epoch: 17 | Train Loss: 0.5637 | Train Acc: 89.90% | Val. Loss: 0.5763 | Val. Acc: 89.92%\n",
            "Epoch: 18 | Train Loss: 0.5627 | Train Acc: 89.90% | Val. Loss: 0.5756 | Val. Acc: 89.92%\n",
            "Epoch: 19 | Train Loss: 0.5608 | Train Acc: 89.90% | Val. Loss: 0.5807 | Val. Acc: 89.92%\n",
            "Epoch: 20 | Train Loss: 0.5628 | Train Acc: 89.90% | Val. Loss: 0.5784 | Val. Acc: 89.92%\n",
            "\n",
            "Evaluating Baseline Model on Test Set...\n",
            "\n",
            "Test Loss: 0.5705 | Test Acc: 89.92%\n",
            "\n",
            "Classification Report on Test Set:\n",
            "                        precision    recall  f1-score   support\n",
            "\n",
            "         Billing Issue       0.90      0.91      0.91       377\n",
            "         Booking Issue       0.92      0.90      0.91       417\n",
            "Customer Service Issue       0.92      0.89      0.91       414\n",
            "        Facility Issue       0.89      0.88      0.88       352\n",
            "  Facility Unavailable       0.92      0.90      0.91       410\n",
            "    Food Quality Issue       0.91      0.91      0.91       362\n",
            "      Room Cleanliness       0.91      0.90      0.91       423\n",
            "   Room Facility Issue       0.88      0.90      0.89       341\n",
            "         Service Delay       0.88      0.90      0.89       435\n",
            "         Service Issue       0.88      0.89      0.88       333\n",
            "       Technical Issue       0.89      0.91      0.90       362\n",
            "\n",
            "              accuracy                           0.90      4226\n",
            "             macro avg       0.90      0.90      0.90      4226\n",
            "          weighted avg       0.90      0.90      0.90      4226\n",
            "\n",
            "\n",
            "Confusion Matrix on Test Set:\n",
            "[[344   4   4   4   0   0   3   6   3   3   6]\n",
            " [  4 374   6   5   3   3   5   3   6   5   3]\n",
            " [  5   1 368   8   4   5   5   1   7   4   6]\n",
            " [  3   6   3 309   2   4   6   4   5   7   3]\n",
            " [  4   5   6   5 368   2   8   3   5   4   0]\n",
            " [  5   2   2   6   3 331   1   2   2   2   6]\n",
            " [  5   4   2   4   4   2 382   7   7   4   2]\n",
            " [  3   3   1   1   6   7   1 306   5   2   6]\n",
            " [  2   5   5   5   3   5   4   6 393   3   4]\n",
            " [  3   1   0   1   6   2   3   6   9 296   6]\n",
            " [  4   3   2   1   3   4   3   2   3   8 329]]\n"
          ]
        }
      ],
      "source": [
        "N_EPOCHS=20\n",
        "def train_model(model, loader, optimizer, criterion):\n",
        "    model.train()\n",
        "    total_loss = 0\n",
        "    correct_predictions = 0\n",
        "    total_samples = 0\n",
        "\n",
        "    for embeddings, labels in loader:\n",
        "\n",
        "        embeddings, labels = embeddings.to(device), labels.to(device)\n",
        "\n",
        "        optimizer.zero_grad()\n",
        "        predictions = model(embeddings)\n",
        "        loss = criterion(predictions, labels)\n",
        "        loss.backward()\n",
        "        optimizer.step()\n",
        "\n",
        "        total_loss += loss.item()\n",
        "        _, predicted = torch.max(predictions, 1)\n",
        "        correct_predictions += (predicted == labels).sum().item()\n",
        "        total_samples += labels.size(0)\n",
        "\n",
        "\n",
        "    avg_loss = total_loss / len(loader)\n",
        "    accuracy = correct_predictions / total_samples\n",
        "    return avg_loss, accuracy\n",
        "\n",
        "\n",
        "def evaluate_model(model, loader, criterion):\n",
        "    model.eval()\n",
        "    total_loss = 0\n",
        "    correct_predictions = 0\n",
        "    total_samples = 0\n",
        "    all_preds = []\n",
        "    all_labels = []\n",
        "\n",
        "    with torch.no_grad():\n",
        "        for embeddings, labels in loader:\n",
        "\n",
        "            embeddings, labels = embeddings.to(device), labels.to(device)\n",
        "\n",
        "            predictions = model(embeddings)\n",
        "            loss = criterion(predictions, labels)\n",
        "\n",
        "            total_loss += loss.item()\n",
        "            _, predicted = torch.max(predictions, 1)\n",
        "\n",
        "            correct_predictions += (predicted == labels).sum().item()\n",
        "            total_samples += labels.size(0)\n",
        "\n",
        "            all_preds.extend(predicted.cpu().numpy())\n",
        "            all_labels.extend(labels.cpu().numpy())\n",
        "\n",
        "    avg_loss = total_loss / len(loader)\n",
        "    accuracy = correct_predictions / total_samples\n",
        "    return avg_loss, accuracy, np.array(all_preds), np.array(all_labels)\n",
        "\n",
        "\n",
        "best_val_loss = float('inf')\n",
        "\n",
        "\n",
        "\n",
        "from sklearn.metrics import classification_report, confusion_matrix\n",
        "\n",
        "\n",
        "print(\"\\nStarting Training for Baseline Model...\")\n",
        "for epoch in range(N_EPOCHS):\n",
        "    train_loss, train_acc = train_model(model, train_loader, optimizer, criterion)\n",
        "    val_loss, val_acc, _, _ = evaluate_model(model, test_loader, criterion)\n",
        "\n",
        "    print(f'Epoch: {epoch+1:02} | Train Loss: {train_loss:.4f} | Train Acc: {train_acc*100:.2f}% | Val. Loss: {val_loss:.4f} | Val. Acc: {val_acc*100:.2f}%')\n",
        "\n",
        "\n",
        "    if val_loss < best_val_loss:\n",
        "        best_val_loss = val_loss\n",
        "        torch.save(model.state_dict(), 'baseline_ffnn_model.pt')\n",
        "        print(f\"  --> Saved best model at Epoch {epoch+1}\")\n",
        "\n",
        "print(\"\\nEvaluating Baseline Model on Test Set...\")\n",
        "model.load_state_dict(torch.load('baseline_ffnn_model.pt'))\n",
        "test_loss, test_acc, test_preds, test_labels = evaluate_model(model, test_loader, criterion)\n",
        "\n",
        "print(f'\\nTest Loss: {test_loss:.4f} | Test Acc: {test_acc*100:.2f}%')\n",
        "\n",
        "print(\"\\nClassification Report on Test Set:\")\n",
        "\n",
        "print(classification_report(test_labels, test_preds, target_names=unique_categories, zero_division=0))\n",
        "\n",
        "print(\"\\nConfusion Matrix on Test Set:\")\n",
        "print(confusion_matrix(test_labels, test_preds))"
      ]
    },
    {
      "cell_type": "markdown",
      "metadata": {
        "id": "k24EYs2pPPsD"
      },
      "source": [
        "### RNN\n"
      ]
    },
    {
      "cell_type": "code",
      "execution_count": 35,
      "metadata": {
        "id": "bXBnIUQdOCMV"
      },
      "outputs": [],
      "source": [
        "def text_to_indices(text_list, vocab, unk_idx, max_seq_len, pad_idx):\n",
        "    indexed_sequences = []\n",
        "    for text in text_list:\n",
        "        tokens = text.split()\n",
        "        indices = [vocab.get(token, unk_idx) for token in tokens]\n",
        "\n",
        "        if len(indices) < max_seq_len:\n",
        "            indices.extend([pad_idx] * (max_seq_len - len(indices)))\n",
        "        elif len(indices) > max_seq_len:\n",
        "            indices = indices[:max_seq_len]\n",
        "\n",
        "        indexed_sequences.append(indices)\n",
        "    return np.array(indexed_sequences)"
      ]
    },
    {
      "cell_type": "code",
      "execution_count": 36,
      "metadata": {
        "id": "O5O5h6reOOFp"
      },
      "outputs": [],
      "source": [
        "class TextDataset(Dataset):\n",
        "    def __init__(self, sequences, labels):\n",
        "        self.sequences = torch.tensor(sequences, dtype=torch.long)\n",
        "        self.labels = torch.tensor(labels, dtype=torch.long)\n",
        "\n",
        "    def __len__(self):\n",
        "        return len(self.sequences)\n",
        "\n",
        "    def __getitem__(self, idx):\n",
        "        return self.sequences[idx], self.labels[idx]\n"
      ]
    },
    {
      "cell_type": "code",
      "execution_count": 37,
      "metadata": {
        "id": "LeFdzmUvOTpB"
      },
      "outputs": [],
      "source": [
        "\n",
        "class RNNClassifier(nn.Module):\n",
        "    def __init__(self, vocab_size, embedding_dim, hidden_dim, num_classes, n_layers, bidirectional, dropout_rate, pad_idx, pretrained_embedding_matrix):\n",
        "        super().__init__()\n",
        "\n",
        "        self.embedding = nn.Embedding(vocab_size, embedding_dim, padding_idx=pad_idx)\n",
        "        self.embedding.weight.data.copy_(pretrained_embedding_matrix)\n",
        "        self.rnn = nn.RNN(\n",
        "            embedding_dim,\n",
        "            hidden_dim,\n",
        "            num_layers=n_layers,\n",
        "            bidirectional=bidirectional,\n",
        "            dropout=dropout_rate if n_layers > 1 else 0,\n",
        "            batch_first=True,\n",
        "            nonlinearity='tanh'\n",
        "        )\n",
        "\n",
        "        self.fc = nn.Linear(hidden_dim * 2 if bidirectional else hidden_dim, num_classes)\n",
        "        self.dropout = nn.Dropout(dropout_rate)\n",
        "\n",
        "    def forward(self, text):\n",
        "        embedded = self.dropout(self.embedding(text))\n",
        "        output, hidden = self.rnn(embedded)\n",
        "\n",
        "        if self.rnn.bidirectional:\n",
        "            hidden_combined = self.dropout(torch.cat((hidden[-2,:,:], hidden[-1,:,:]), dim=1))\n",
        "        else:\n",
        "            hidden_combined = self.dropout(hidden[-1,:,:])\n",
        "\n",
        "        prediction = self.fc(hidden_combined)\n",
        "        return prediction"
      ]
    },
    {
      "cell_type": "code",
      "execution_count": 38,
      "metadata": {
        "colab": {
          "base_uri": "https://localhost:8080/"
        },
        "id": "XzvHtA1nuvnh",
        "outputId": "1a0db1ab-3f1c-46d0-e9ab-ed02fcbb7904"
      },
      "outputs": [
        {
          "output_type": "stream",
          "name": "stdout",
          "text": [
            "\n",
            "Built vocabulary for RNN. Total words in vocab: 191\n",
            "Pad index: 0, Unknown index: 1\n"
          ]
        }
      ],
      "source": [
        "EMBEDDING_DIM = 100\n",
        "HIDDEN_DIM = 256\n",
        "N_LAYERS = 2\n",
        "BIDIRECTIONAL = True\n",
        "DROPOUT_RATE = 0.5\n",
        "N_EPOCHS = 20\n",
        "BATCH_SIZE = 32\n",
        "MAX_SEQUENCE_LENGTH = 200\n",
        "LEARNING_RATE = 0.001\n",
        "\n",
        "word_counts = Counter()\n",
        "for text in x_train:\n",
        "    word_counts.update(text.split())\n",
        "\n",
        "vocab = {'<pad>': 0, '<unk>': 1}\n",
        "for word, count in word_counts.most_common():\n",
        "    if word not in vocab:\n",
        "        vocab[word] = len(vocab)\n",
        "\n",
        "VOCAB_SIZE = len(vocab)\n",
        "PAD_IDX = vocab['<pad>']\n",
        "UNK_IDX = vocab['<unk>']\n",
        "\n",
        "print(f\"\\nBuilt vocabulary for RNN. Total words in vocab: {VOCAB_SIZE}\")\n",
        "print(f\"Pad index: {PAD_IDX}, Unknown index: {UNK_IDX}\")\n",
        "\n",
        "embedding_matrix = np.zeros((VOCAB_SIZE, EMBEDDING_DIM), dtype=np.float32)\n",
        "\n",
        "for word, idx in vocab.items():\n",
        "    if word == '<pad>':\n",
        "        embedding_matrix[idx] = np.zeros(EMBEDDING_DIM)\n",
        "    elif word == '<unk>':\n",
        "        embedding_matrix[idx] = np.random.uniform(-0.25, 0.25, EMBEDDING_DIM)\n",
        "    else:\n",
        "        word_lower = word.lower()\n",
        "\n",
        "        if word_lower in word2vec_model.wv:\n",
        "            embedding_matrix[idx] = word2vec_model.wv[word_lower]\n",
        "        else:\n",
        "            embedding_matrix[idx] = np.random.uniform(-0.25, 0.25, EMBEDDING_DIM)\n",
        "\n",
        "embedding_matrix = torch.from_numpy(embedding_matrix)\n",
        "\n",
        "X_train_indices = text_to_indices(x_train, vocab, UNK_IDX, MAX_SEQUENCE_LENGTH, PAD_IDX)\n",
        "X_test_indices = text_to_indices(x_test, vocab, UNK_IDX, MAX_SEQUENCE_LENGTH, PAD_IDX)\n",
        "\n",
        "\n",
        "train_dataset_rnn = TextDataset(X_train_indices, y_train_encoded)\n",
        "test_dataset_rnn = TextDataset(X_test_indices, y_test_encoded)\n",
        "\n",
        "train_loader_rnn = DataLoader(train_dataset_rnn, batch_size=BATCH_SIZE, shuffle=True)\n",
        "test_loader_rnn = DataLoader(test_dataset_rnn, batch_size=BATCH_SIZE, shuffle=False)\n",
        "\n"
      ]
    },
    {
      "cell_type": "code",
      "execution_count": 39,
      "metadata": {
        "colab": {
          "base_uri": "https://localhost:8080/"
        },
        "id": "WRgfyiilOhUy",
        "outputId": "3379f1b1-8e66-4d13-a007-2ecb520b72bb"
      },
      "outputs": [
        {
          "output_type": "stream",
          "name": "stdout",
          "text": [
            "RNNClassifier(\n",
            "  (embedding): Embedding(191, 100, padding_idx=0)\n",
            "  (rnn): RNN(100, 256, num_layers=2, batch_first=True, dropout=0.5, bidirectional=True)\n",
            "  (fc): Linear(in_features=512, out_features=11, bias=True)\n",
            "  (dropout): Dropout(p=0.5, inplace=False)\n",
            ")\n"
          ]
        }
      ],
      "source": [
        "model_rnn = RNNClassifier(\n",
        "    vocab_size=VOCAB_SIZE,\n",
        "    embedding_dim=EMBEDDING_DIM,\n",
        "    hidden_dim=HIDDEN_DIM,\n",
        "    num_classes=num_classes,\n",
        "    n_layers=N_LAYERS,\n",
        "    bidirectional=BIDIRECTIONAL,\n",
        "    dropout_rate=DROPOUT_RATE,\n",
        "    pad_idx=PAD_IDX,\n",
        "    pretrained_embedding_matrix=embedding_matrix\n",
        ").to(device)\n",
        "\n",
        "print(model_rnn)\n",
        "\n",
        "\n",
        "\n",
        "class_weights_np = class_weight.compute_class_weight(\n",
        "    'balanced',\n",
        "    classes=np.unique(y_train_encoded),\n",
        "    y=y_train_encoded\n",
        ")\n",
        "class_weights_tensor = torch.tensor(class_weights_np, dtype=torch.float).to(device)\n",
        "\n",
        "criterion_rnn = nn.CrossEntropyLoss(weight=class_weights_tensor)\n",
        "optimizer_rnn = optim.Adam(model_rnn.parameters(), lr=LEARNING_RATE)\n"
      ]
    },
    {
      "cell_type": "code",
      "execution_count": 40,
      "metadata": {
        "id": "eEOi0J5jOnM4"
      },
      "outputs": [],
      "source": [
        "\n",
        "def train_model(model, loader, optimizer, criterion, device):\n",
        "    model.train()\n",
        "    total_loss = 0\n",
        "    correct_predictions = 0\n",
        "    total_samples = 0\n",
        "    for sequences, labels in loader:\n",
        "        sequences, labels = sequences.to(device), labels.to(device)\n",
        "        optimizer.zero_grad()\n",
        "        predictions = model(sequences)\n",
        "        loss = criterion(predictions, labels)\n",
        "        loss.backward()\n",
        "        optimizer.step()\n",
        "        total_loss += loss.item()\n",
        "        _, predicted = torch.max(predictions, 1)\n",
        "        correct_predictions += (predicted == labels).sum().item()\n",
        "        total_samples += labels.size(0)\n",
        "    avg_loss = total_loss / len(loader)\n",
        "    accuracy = correct_predictions / total_samples\n",
        "    return avg_loss, accuracy\n",
        "\n",
        "def evaluate_model(model, loader, criterion, device):\n",
        "    model.eval()\n",
        "    total_loss = 0\n",
        "    correct_predictions = 0\n",
        "    total_samples = 0\n",
        "    all_preds = []\n",
        "    all_labels = []\n",
        "    with torch.no_grad():\n",
        "        for sequences, labels in loader:\n",
        "            sequences, labels = sequences.to(device), labels.to(device)\n",
        "            predictions = model(sequences)\n",
        "            loss = criterion(predictions, labels)\n",
        "            total_loss += loss.item()\n",
        "            _, predicted = torch.max(predictions, 1)\n",
        "            correct_predictions += (predicted == labels).sum().item()\n",
        "            total_samples += labels.size(0)\n",
        "            all_preds.extend(predicted.cpu().numpy())\n",
        "            all_labels.extend(labels.cpu().numpy())\n",
        "    avg_loss = total_loss / len(loader)\n",
        "    accuracy = correct_predictions / total_samples\n",
        "    return avg_loss, accuracy, np.array(all_preds), np.array(all_labels)"
      ]
    },
    {
      "cell_type": "code",
      "execution_count": 41,
      "metadata": {
        "colab": {
          "base_uri": "https://localhost:8080/"
        },
        "id": "dSsT2GsUN1H_",
        "outputId": "5673d08c-edd5-4cca-f58d-a184c74a9fb5"
      },
      "outputs": [
        {
          "output_type": "stream",
          "name": "stdout",
          "text": [
            "Epoch: 01 | Train Loss: 0.8564 | Train Acc: 82.55%\n",
            "Epoch: 02 | Train Loss: 0.7296 | Train Acc: 86.95%\n",
            "Epoch: 03 | Train Loss: 0.6917 | Train Acc: 88.09%\n",
            "Epoch: 04 | Train Loss: 0.6480 | Train Acc: 89.28%\n",
            "Epoch: 05 | Train Loss: 0.6300 | Train Acc: 89.75%\n",
            "Epoch: 06 | Train Loss: 0.6335 | Train Acc: 89.62%\n",
            "Epoch: 07 | Train Loss: 0.6348 | Train Acc: 89.70%\n",
            "Epoch: 08 | Train Loss: 0.6408 | Train Acc: 89.39%\n",
            "Epoch: 09 | Train Loss: 0.6285 | Train Acc: 89.75%\n",
            "Epoch: 10 | Train Loss: 0.6494 | Train Acc: 89.36%\n",
            "Epoch: 11 | Train Loss: 0.6274 | Train Acc: 89.69%\n",
            "Epoch: 12 | Train Loss: 0.6255 | Train Acc: 89.82%\n",
            "Epoch: 13 | Train Loss: 0.6281 | Train Acc: 89.78%\n",
            "Epoch: 14 | Train Loss: 0.6261 | Train Acc: 89.78%\n",
            "Epoch: 15 | Train Loss: 0.6296 | Train Acc: 89.79%\n",
            "Epoch: 16 | Train Loss: 0.6203 | Train Acc: 89.87%\n",
            "Epoch: 17 | Train Loss: 0.6226 | Train Acc: 89.77%\n",
            "Epoch: 18 | Train Loss: 0.6244 | Train Acc: 89.84%\n",
            "Epoch: 19 | Train Loss: 0.6246 | Train Acc: 89.78%\n",
            "Epoch: 20 | Train Loss: 0.6306 | Train Acc: 89.63%\n",
            "--> Saved final model after 20 epochs.\n",
            "\n",
            "Evaluating Simple RNN Model with Pre-trained Embeddings on Test Set...\n",
            "\n",
            "Test Loss: 0.5962 | Test Acc: 89.92%\n",
            "\n",
            "Classification Report on Test Set:\n",
            "                        precision    recall  f1-score   support\n",
            "\n",
            "         Billing Issue       0.90      0.91      0.91       377\n",
            "         Booking Issue       0.92      0.90      0.91       417\n",
            "Customer Service Issue       0.92      0.89      0.91       414\n",
            "        Facility Issue       0.89      0.88      0.88       352\n",
            "  Facility Unavailable       0.92      0.90      0.91       410\n",
            "    Food Quality Issue       0.91      0.91      0.91       362\n",
            "      Room Cleanliness       0.91      0.90      0.91       423\n",
            "   Room Facility Issue       0.88      0.90      0.89       341\n",
            "         Service Delay       0.88      0.90      0.89       435\n",
            "         Service Issue       0.88      0.89      0.88       333\n",
            "       Technical Issue       0.89      0.91      0.90       362\n",
            "\n",
            "              accuracy                           0.90      4226\n",
            "             macro avg       0.90      0.90      0.90      4226\n",
            "          weighted avg       0.90      0.90      0.90      4226\n",
            "\n",
            "\n",
            "Confusion Matrix on Test Set:\n",
            "[[344   4   4   4   0   0   3   6   3   3   6]\n",
            " [  4 374   6   5   3   3   5   3   6   5   3]\n",
            " [  5   1 368   8   4   5   5   1   7   4   6]\n",
            " [  3   6   3 309   2   4   6   4   5   7   3]\n",
            " [  4   5   6   5 368   2   8   3   5   4   0]\n",
            " [  5   2   2   6   3 331   1   2   2   2   6]\n",
            " [  5   4   2   4   4   2 382   7   7   4   2]\n",
            " [  3   3   1   1   6   7   1 306   5   2   6]\n",
            " [  2   5   5   5   3   5   4   6 393   3   4]\n",
            " [  3   1   0   1   6   2   3   6   9 296   6]\n",
            " [  4   3   2   1   3   4   3   2   3   8 329]]\n"
          ]
        }
      ],
      "source": [
        "for epoch in range(N_EPOCHS):\n",
        "    train_loss, train_acc = train_model(model_rnn, train_loader_rnn, optimizer_rnn, criterion_rnn, device)\n",
        "\n",
        "    print(f'Epoch: {epoch+1:02} | Train Loss: {train_loss:.4f} | Train Acc: {train_acc*100:.2f}%')\n",
        "\n",
        "torch.save(model_rnn.state_dict(), 'simple_rnn_pretrained_classifier_model.pt')\n",
        "print(f\"--> Saved final model after {N_EPOCHS} epochs.\")\n",
        "\n",
        "print(\"\\nEvaluating Simple RNN Model with Pre-trained Embeddings on Test Set...\")\n",
        "model_rnn.load_state_dict(torch.load('simple_rnn_pretrained_classifier_model.pt'))\n",
        "test_loss, test_acc, test_preds, test_labels = evaluate_model(model_rnn, test_loader_rnn, criterion_rnn, device)\n",
        "\n",
        "print(f'\\nTest Loss: {test_loss:.4f} | Test Acc: {test_acc*100:.2f}%')\n",
        "print(\"\\nClassification Report on Test Set:\")\n",
        "print(classification_report(test_labels, test_preds, target_names=unique_categories, zero_division=0))\n",
        "print(\"\\nConfusion Matrix on Test Set:\")\n",
        "print(confusion_matrix(test_labels, test_preds))"
      ]
    },
    {
      "cell_type": "code",
      "execution_count": 42,
      "metadata": {
        "id": "9cuuDWS1QtDV"
      },
      "outputs": [],
      "source": [
        "class LSTMTexTDataset(Dataset):\n",
        "    def __init__(self, sequences, labels):\n",
        "        self.sequences = torch.tensor(sequences, dtype=torch.long)\n",
        "        self.labels = torch.tensor(labels, dtype=torch.long)\n",
        "\n",
        "    def __len__(self):\n",
        "        return len(self.sequences)\n",
        "\n",
        "    def __getitem__(self, idx):\n",
        "        return self.sequences[idx], self.labels[idx]\n"
      ]
    },
    {
      "cell_type": "code",
      "execution_count": 43,
      "metadata": {
        "id": "g6Gj0pjBQz5M"
      },
      "outputs": [],
      "source": [
        "\n",
        "class LSTMClassifier(nn.Module):\n",
        "    def __init__(self, vocab_size, embedding_dim, hidden_dim, num_classes, n_layers, bidirectional, dropout_rate, pad_idx):\n",
        "        super().__init__()\n",
        "\n",
        "\n",
        "        self.embedding = nn.Embedding(vocab_size, embedding_dim, padding_idx=pad_idx)\n",
        "        self.embedding.weight.data.copy_(embedding_matrix)\n",
        "\n",
        "\n",
        "        self.lstm = nn.LSTM(\n",
        "            embedding_dim,\n",
        "            hidden_dim,\n",
        "            num_layers=n_layers,\n",
        "            bidirectional=bidirectional,\n",
        "            dropout=dropout_rate if n_layers > 1 else 0,\n",
        "            batch_first=True\n",
        "        )\n",
        "\n",
        "\n",
        "        self.fc = nn.Linear(hidden_dim * 2 if bidirectional else hidden_dim, num_classes)\n",
        "\n",
        "\n",
        "        self.dropout = nn.Dropout(dropout_rate)\n",
        "\n",
        "    def forward(self, text):\n",
        "\n",
        "        embedded = self.dropout(self.embedding(text))\n",
        "\n",
        "\n",
        "        output, (hidden, cell) = self.lstm(embedded)\n",
        "\n",
        "        if self.lstm.bidirectional:\n",
        "\n",
        "            hidden = self.dropout(torch.cat((hidden[-2,:,:], hidden[-1,:,:]), dim=1))\n",
        "        else:\n",
        "\n",
        "            hidden = self.dropout(hidden[-1,:,:])\n",
        "\n",
        "\n",
        "        prediction = self.fc(hidden)\n",
        "        return prediction"
      ]
    },
    {
      "cell_type": "code",
      "execution_count": 44,
      "metadata": {
        "colab": {
          "base_uri": "https://localhost:8080/"
        },
        "id": "dNOdTkqMsz_r",
        "outputId": "014ae25b-2202-4f58-da36-53876a75e537"
      },
      "outputs": [
        {
          "output_type": "stream",
          "name": "stdout",
          "text": [
            "Shape of embedding_matrix for nn.Embedding: torch.Size([191, 100])\n"
          ]
        }
      ],
      "source": [
        "\n",
        "\n",
        "embedding_matrix = np.zeros((VOCAB_SIZE, EMBEDDING_DIM), dtype=np.float32)\n",
        "\n",
        "for word, idx in vocab.items():\n",
        "    if word == '<pad>':\n",
        "\n",
        "        embedding_matrix[idx] = np.zeros(EMBEDDING_DIM)\n",
        "    elif word == '<unk>':\n",
        "\n",
        "        embedding_matrix[idx] = np.random.uniform(-0.25, 0.25, EMBEDDING_DIM)\n",
        "    elif word in word2vec_model.wv:\n",
        "\n",
        "        embedding_matrix[idx] = word2vec_model.wv[word]\n",
        "    else:\n",
        "\n",
        "        embedding_matrix[idx] = np.random.uniform(-0.25, 0.25, EMBEDDING_DIM)\n",
        "\n",
        "embedding_matrix = torch.from_numpy(embedding_matrix)\n",
        "print(f\"Shape of embedding_matrix for nn.Embedding: {embedding_matrix.shape}\")\n",
        "\n",
        "\n",
        "def text_to_indices(text_list, vocab, unk_idx, max_seq_len, pad_idx):\n",
        "    indexed_sequences = []\n",
        "    for text in text_list:\n",
        "        tokens = text.split()\n",
        "\n",
        "        indices = [vocab.get(token, unk_idx) for token in tokens]\n",
        "\n",
        "\n",
        "        if len(indices) < max_seq_len:\n",
        "            indices.extend([pad_idx] * (max_seq_len - len(indices)))\n",
        "        elif len(indices) > max_seq_len:\n",
        "            indices = indices[:max_seq_len]\n",
        "\n",
        "        indexed_sequences.append(indices)\n",
        "    return np.array(indexed_sequences)\n",
        "\n",
        "X_train_indices = text_to_indices(x_train, vocab, UNK_IDX, MAX_SEQUENCE_LENGTH, PAD_IDX)\n",
        "X_test_indices = text_to_indices(x_test, vocab, UNK_IDX, MAX_SEQUENCE_LENGTH, PAD_IDX)\n",
        "\n",
        "\n",
        "train_dataset_lstm = LSTMTexTDataset(X_train_indices, y_train_encoded)\n",
        "test_dataset_lstm = LSTMTexTDataset(X_test_indices, y_test_encoded)\n",
        "\n",
        "train_loader_lstm = DataLoader(train_dataset_lstm, batch_size=BATCH_SIZE, shuffle=True)\n",
        "test_loader_lstm = DataLoader(test_dataset_lstm, batch_size=BATCH_SIZE, shuffle=False)\n",
        "\n",
        "\n"
      ]
    },
    {
      "cell_type": "code",
      "execution_count": 45,
      "metadata": {
        "colab": {
          "base_uri": "https://localhost:8080/"
        },
        "id": "QsbSZq19Q6M6",
        "outputId": "74dfad34-68f9-432e-cecd-abbb8b56bf33"
      },
      "outputs": [
        {
          "output_type": "stream",
          "name": "stdout",
          "text": [
            "LSTMClassifier(\n",
            "  (embedding): Embedding(191, 100, padding_idx=0)\n",
            "  (lstm): LSTM(100, 256, num_layers=2, batch_first=True, dropout=0.5, bidirectional=True)\n",
            "  (fc): Linear(in_features=512, out_features=11, bias=True)\n",
            "  (dropout): Dropout(p=0.5, inplace=False)\n",
            ")\n"
          ]
        }
      ],
      "source": [
        "model_lstm = LSTMClassifier(\n",
        "    vocab_size=VOCAB_SIZE,\n",
        "    embedding_dim=EMBEDDING_DIM,\n",
        "    hidden_dim=HIDDEN_DIM,\n",
        "    num_classes=num_classes,\n",
        "    n_layers=N_LAYERS,\n",
        "    bidirectional=BIDIRECTIONAL,\n",
        "    dropout_rate=DROPOUT_RATE,\n",
        "    pad_idx=PAD_IDX\n",
        ").to(device)\n",
        "print(model_lstm)\n",
        "class_weights_np = class_weight.compute_class_weight(\n",
        "    'balanced',\n",
        "    classes=np.unique(y_train_encoded),\n",
        "    y=y_train_encoded\n",
        ")\n",
        "class_weights_tensor = torch.tensor(class_weights_np, dtype=torch.float).to(device)\n",
        "\n",
        "criterion_lstm = nn.CrossEntropyLoss(weight=class_weights_tensor)\n",
        "optimizer_lstm = optim.Adam(model_lstm.parameters(), lr=LEARNING_RATE)\n"
      ]
    },
    {
      "cell_type": "code",
      "execution_count": 46,
      "metadata": {
        "colab": {
          "base_uri": "https://localhost:8080/"
        },
        "id": "7ySDlV8eRGQA",
        "outputId": "60dd2d92-a1f1-4c21-bf74-7b38d246c9db"
      },
      "outputs": [
        {
          "output_type": "stream",
          "name": "stdout",
          "text": [
            "\n",
            "Starting Training for LSTM Model...\n",
            "Epoch: 01 | Train Loss: 0.7729 | Train Acc: 83.59% | Val. Loss: 0.5761 | Val. Acc: 89.92%\n",
            "  --> Saved best model at Epoch 1\n",
            "Epoch: 02 | Train Loss: 0.5991 | Train Acc: 89.63% | Val. Loss: 0.5681 | Val. Acc: 89.92%\n",
            "  --> Saved best model at Epoch 2\n",
            "Epoch: 03 | Train Loss: 0.5896 | Train Acc: 89.84% | Val. Loss: 0.5660 | Val. Acc: 89.92%\n",
            "  --> Saved best model at Epoch 3\n",
            "Epoch: 04 | Train Loss: 0.5909 | Train Acc: 89.79% | Val. Loss: 0.5699 | Val. Acc: 89.92%\n",
            "Epoch: 05 | Train Loss: 0.5852 | Train Acc: 89.83% | Val. Loss: 0.5643 | Val. Acc: 89.92%\n",
            "  --> Saved best model at Epoch 5\n",
            "Epoch: 06 | Train Loss: 0.5869 | Train Acc: 89.86% | Val. Loss: 0.5673 | Val. Acc: 89.92%\n",
            "Epoch: 07 | Train Loss: 0.5871 | Train Acc: 89.82% | Val. Loss: 0.5648 | Val. Acc: 89.92%\n",
            "Epoch: 08 | Train Loss: 0.5830 | Train Acc: 89.87% | Val. Loss: 0.5669 | Val. Acc: 89.92%\n",
            "Epoch: 09 | Train Loss: 0.5845 | Train Acc: 89.90% | Val. Loss: 0.5693 | Val. Acc: 89.92%\n",
            "Epoch: 10 | Train Loss: 0.5831 | Train Acc: 89.89% | Val. Loss: 0.5632 | Val. Acc: 89.92%\n",
            "  --> Saved best model at Epoch 10\n",
            "Epoch: 11 | Train Loss: 0.5859 | Train Acc: 89.89% | Val. Loss: 0.5666 | Val. Acc: 89.92%\n",
            "Epoch: 12 | Train Loss: 0.5808 | Train Acc: 89.88% | Val. Loss: 0.5675 | Val. Acc: 89.92%\n",
            "Epoch: 13 | Train Loss: 0.5862 | Train Acc: 89.89% | Val. Loss: 0.5652 | Val. Acc: 89.92%\n",
            "Epoch: 14 | Train Loss: 0.5879 | Train Acc: 89.85% | Val. Loss: 0.5692 | Val. Acc: 89.92%\n",
            "Epoch: 15 | Train Loss: 0.5808 | Train Acc: 89.89% | Val. Loss: 0.5675 | Val. Acc: 89.92%\n",
            "Epoch: 16 | Train Loss: 0.5781 | Train Acc: 89.90% | Val. Loss: 0.5636 | Val. Acc: 89.92%\n",
            "Epoch: 17 | Train Loss: 0.5791 | Train Acc: 89.90% | Val. Loss: 0.5691 | Val. Acc: 89.92%\n",
            "Epoch: 18 | Train Loss: 0.5781 | Train Acc: 89.90% | Val. Loss: 0.5706 | Val. Acc: 89.92%\n",
            "Epoch: 19 | Train Loss: 0.5777 | Train Acc: 89.90% | Val. Loss: 0.5687 | Val. Acc: 89.92%\n",
            "Epoch: 20 | Train Loss: 0.5795 | Train Acc: 89.90% | Val. Loss: 0.5659 | Val. Acc: 89.92%\n",
            "\n",
            "Evaluating LSTM Model on Test Set...\n",
            "\n",
            "Test Loss: 0.5632 | Test Acc: 89.92%\n",
            "\n",
            "Classification Report on Test Set:\n",
            "                        precision    recall  f1-score   support\n",
            "\n",
            "         Billing Issue       0.90      0.91      0.91       377\n",
            "         Booking Issue       0.92      0.90      0.91       417\n",
            "Customer Service Issue       0.92      0.89      0.91       414\n",
            "        Facility Issue       0.89      0.88      0.88       352\n",
            "  Facility Unavailable       0.92      0.90      0.91       410\n",
            "    Food Quality Issue       0.91      0.91      0.91       362\n",
            "      Room Cleanliness       0.91      0.90      0.91       423\n",
            "   Room Facility Issue       0.88      0.90      0.89       341\n",
            "         Service Delay       0.88      0.90      0.89       435\n",
            "         Service Issue       0.88      0.89      0.88       333\n",
            "       Technical Issue       0.89      0.91      0.90       362\n",
            "\n",
            "              accuracy                           0.90      4226\n",
            "             macro avg       0.90      0.90      0.90      4226\n",
            "          weighted avg       0.90      0.90      0.90      4226\n",
            "\n",
            "\n",
            "Confusion Matrix on Test Set:\n",
            "[[344   4   4   4   0   0   3   6   3   3   6]\n",
            " [  4 374   6   5   3   3   5   3   6   5   3]\n",
            " [  5   1 368   8   4   5   5   1   7   4   6]\n",
            " [  3   6   3 309   2   4   6   4   5   7   3]\n",
            " [  4   5   6   5 368   2   8   3   5   4   0]\n",
            " [  5   2   2   6   3 331   1   2   2   2   6]\n",
            " [  5   4   2   4   4   2 382   7   7   4   2]\n",
            " [  3   3   1   1   6   7   1 306   5   2   6]\n",
            " [  2   5   5   5   3   5   4   6 393   3   4]\n",
            " [  3   1   0   1   6   2   3   6   9 296   6]\n",
            " [  4   3   2   1   3   4   3   2   3   8 329]]\n"
          ]
        }
      ],
      "source": [
        "best_val_loss = float('inf')\n",
        "\n",
        "print(\"\\nStarting Training for LSTM Model...\")\n",
        "for epoch in range(N_EPOCHS):\n",
        "    train_loss, train_acc = train_model(model_lstm, train_loader_lstm, optimizer_lstm, criterion_lstm, device)\n",
        "    val_loss, val_acc, _, _ = evaluate_model(model_lstm, test_loader_lstm, criterion_lstm, device)\n",
        "\n",
        "    print(f'Epoch: {epoch+1:02} | Train Loss: {train_loss:.4f} | Train Acc: {train_acc*100:.2f}% | Val. Loss: {val_loss:.4f} | Val. Acc: {val_acc*100:.2f}%')\n",
        "\n",
        "    if val_loss < best_val_loss:\n",
        "        best_val_loss = val_loss\n",
        "        torch.save(model_lstm.state_dict(), 'lstm_classifier_model.pt')\n",
        "        print(f\"  --> Saved best model at Epoch {epoch+1}\")\n",
        "\n",
        "print(\"\\nEvaluating LSTM Model on Test Set...\")\n",
        "model_lstm.load_state_dict(torch.load('lstm_classifier_model.pt'))\n",
        "test_loss, test_acc, test_preds, test_labels = evaluate_model(model_lstm, test_loader_lstm, criterion_lstm, device)\n",
        "\n",
        "print(f'\\nTest Loss: {test_loss:.4f} | Test Acc: {test_acc*100:.2f}%')\n",
        "print(\"\\nClassification Report on Test Set:\")\n",
        "print(classification_report(test_labels, test_preds, target_names=unique_categories, zero_division=0))\n",
        "print(\"\\nConfusion Matrix on Test Set:\")\n",
        "print(confusion_matrix(test_labels, test_preds))"
      ]
    },
    {
      "cell_type": "code",
      "execution_count": 47,
      "metadata": {
        "colab": {
          "base_uri": "https://localhost:8080/"
        },
        "id": "s5-t94cJfU0p",
        "outputId": "b7ff122c-1630-4183-b4f7-7f8004ea88b4"
      },
      "outputs": [
        {
          "output_type": "stream",
          "name": "stdout",
          "text": [
            "\n",
            "Loading pretrained Word2Vec model from: /content/drive/MyDrive/nlp p-1/GoogleNews-vectors-negative300.bin...\n"
          ]
        }
      ],
      "source": [
        "EMBEDDING_DIM = 300\n",
        "HIDDEN_LAYER_1_SIZE = 128\n",
        "HIDDEN_LAYER_2_SIZE = 64\n",
        "N_EPOCHS = 20\n",
        "BATCH_SIZE = 32\n",
        "LEARNING_RATE = 0.001\n",
        "\n",
        "PRETRAINED_MODEL_PATH = '/content/drive/MyDrive/nlp p-1/GoogleNews-vectors-negative300.bin'\n",
        "print(f\"\\nLoading pretrained Word2Vec model from: {PRETRAINED_MODEL_PATH}...\")\n",
        "try:\n",
        "    pretrained_word2vec_model = KeyedVectors.load_word2vec_format(PRETRAINED_MODEL_PATH, binary=True)\n",
        "except Exception as e:\n",
        "    print(f\"An error occurred while loading the model: {e}\")\n",
        "    exit()"
      ]
    },
    {
      "cell_type": "code",
      "execution_count": 48,
      "metadata": {
        "id": "PLyts62Tql82"
      },
      "outputs": [],
      "source": [
        "\n",
        "\n",
        "X_train_embeddings = np.array([average_word_vectors_pretrained(text.split(), pretrained_word2vec_model, EMBEDDING_DIM) for text in x_train])\n",
        "X_test_embeddings = np.array([average_word_vectors_pretrained(text.split(), pretrained_word2vec_model, EMBEDDING_DIM) for text in x_test])\n",
        "\n",
        "train_dataset = SimpleEmbeddingDataset(X_train_embeddings, y_train_encoded)\n",
        "test_dataset = SimpleEmbeddingDataset(X_test_embeddings, y_test_encoded)\n",
        "\n",
        "train_loader = DataLoader(train_dataset, batch_size=BATCH_SIZE, shuffle=True)\n",
        "test_loader = DataLoader(test_dataset, batch_size=BATCH_SIZE, shuffle=False)\n",
        "\n",
        "def train_model(model, loader, optimizer, criterion, device):\n",
        "    model.train()\n",
        "    total_loss = 0\n",
        "    correct_predictions = 0\n",
        "    total_samples = 0\n",
        "    for embeddings, labels in loader:\n",
        "        embeddings, labels = embeddings.to(device), labels.to(device)\n",
        "        optimizer.zero_grad()\n",
        "        predictions = model(embeddings)\n",
        "        loss = criterion(predictions, labels)\n",
        "        loss.backward()\n",
        "        optimizer.step()\n",
        "        total_loss += loss.item()\n",
        "        _, predicted = torch.max(predictions, 1)\n",
        "        correct_predictions += (predicted == labels).sum().item()\n",
        "        total_samples += labels.size(0)\n",
        "    avg_loss = total_loss / len(loader)\n",
        "    accuracy = correct_predictions / total_samples\n",
        "    return avg_loss, accuracy\n",
        "\n",
        "def evaluate_model(model, loader, criterion, device):\n",
        "    model.eval()\n",
        "    total_loss = 0\n",
        "    correct_predictions = 0\n",
        "    total_samples = 0\n",
        "    all_preds = []\n",
        "    all_labels = []\n",
        "    with torch.no_grad():\n",
        "        for embeddings, labels in loader:\n",
        "            embeddings, labels = embeddings.to(device), labels.to(device)\n",
        "            predictions = model(embeddings)\n",
        "            loss = criterion(predictions, labels)\n",
        "            total_loss += loss.item()\n",
        "            _, predicted = torch.max(predictions, 1)\n",
        "            correct_predictions += (predicted == labels).sum().item()\n",
        "            total_samples += labels.size(0)\n",
        "            all_preds.extend(predicted.cpu().numpy())\n",
        "            all_labels.extend(labels.cpu().numpy())\n",
        "    avg_loss = total_loss / len(loader)\n",
        "    accuracy = correct_predictions / total_samples\n",
        "    return avg_loss, accuracy, np.array(all_preds), np.array(all_labels)\n",
        "\n",
        "best_val_loss = float('inf')\n"
      ]
    },
    {
      "cell_type": "code",
      "execution_count": 48,
      "metadata": {
        "id": "2uJqJrQNf0Uo"
      },
      "outputs": [],
      "source": []
    },
    {
      "cell_type": "code",
      "execution_count": 49,
      "metadata": {
        "colab": {
          "base_uri": "https://localhost:8080/"
        },
        "id": "TxVqBCcMf9xZ",
        "outputId": "924c8c95-76b3-48c2-8fc4-a0a4499aea0c"
      },
      "outputs": [
        {
          "output_type": "stream",
          "name": "stdout",
          "text": [
            "\n",
            "Starting Training for Baseline Model (using Pretrained Embeddings)...\n",
            "Epoch: 01 | Train Loss: 0.8533 | Train Acc: 83.65% | Val. Loss: 0.6123 | Val. Acc: 89.14%\n",
            "  --> Saved best model at Epoch 1\n",
            "Epoch: 02 | Train Loss: 0.5960 | Train Acc: 89.33% | Val. Loss: 0.5934 | Val. Acc: 89.14%\n",
            "  --> Saved best model at Epoch 2\n",
            "Epoch: 03 | Train Loss: 0.5822 | Train Acc: 89.26% | Val. Loss: 0.5826 | Val. Acc: 89.14%\n",
            "  --> Saved best model at Epoch 3\n",
            "Epoch: 04 | Train Loss: 0.5767 | Train Acc: 89.30% | Val. Loss: 0.5848 | Val. Acc: 89.07%\n",
            "Epoch: 05 | Train Loss: 0.5777 | Train Acc: 89.25% | Val. Loss: 0.5782 | Val. Acc: 89.14%\n",
            "  --> Saved best model at Epoch 5\n",
            "Epoch: 06 | Train Loss: 0.5718 | Train Acc: 89.32% | Val. Loss: 0.5777 | Val. Acc: 89.07%\n",
            "  --> Saved best model at Epoch 6\n",
            "Epoch: 07 | Train Loss: 0.5717 | Train Acc: 89.23% | Val. Loss: 0.5801 | Val. Acc: 89.07%\n",
            "Epoch: 08 | Train Loss: 0.5702 | Train Acc: 89.26% | Val. Loss: 0.5794 | Val. Acc: 89.14%\n",
            "Epoch: 09 | Train Loss: 0.5704 | Train Acc: 89.27% | Val. Loss: 0.5809 | Val. Acc: 89.14%\n",
            "Epoch: 10 | Train Loss: 0.5699 | Train Acc: 89.35% | Val. Loss: 0.5774 | Val. Acc: 89.14%\n",
            "  --> Saved best model at Epoch 10\n",
            "Epoch: 11 | Train Loss: 0.5715 | Train Acc: 89.23% | Val. Loss: 0.5793 | Val. Acc: 89.07%\n",
            "Epoch: 12 | Train Loss: 0.5702 | Train Acc: 89.26% | Val. Loss: 0.5819 | Val. Acc: 89.14%\n",
            "Epoch: 13 | Train Loss: 0.5695 | Train Acc: 89.30% | Val. Loss: 0.5840 | Val. Acc: 89.07%\n",
            "Epoch: 14 | Train Loss: 0.5691 | Train Acc: 89.19% | Val. Loss: 0.5806 | Val. Acc: 89.07%\n",
            "Epoch: 15 | Train Loss: 0.5692 | Train Acc: 89.26% | Val. Loss: 0.5798 | Val. Acc: 89.07%\n",
            "Epoch: 16 | Train Loss: 0.5712 | Train Acc: 89.28% | Val. Loss: 0.5771 | Val. Acc: 89.14%\n",
            "  --> Saved best model at Epoch 16\n",
            "Epoch: 17 | Train Loss: 0.5679 | Train Acc: 89.26% | Val. Loss: 0.5810 | Val. Acc: 89.14%\n",
            "Epoch: 18 | Train Loss: 0.5674 | Train Acc: 89.27% | Val. Loss: 0.5796 | Val. Acc: 89.07%\n",
            "Epoch: 19 | Train Loss: 0.5666 | Train Acc: 89.25% | Val. Loss: 0.5826 | Val. Acc: 89.07%\n",
            "Epoch: 20 | Train Loss: 0.5662 | Train Acc: 89.29% | Val. Loss: 0.5781 | Val. Acc: 89.14%\n",
            "\n",
            "Evaluating Baseline Model on Test Set (using Pretrained Embeddings)...\n",
            "\n",
            "Test Loss: 0.5771 | Test Acc: 89.14%\n",
            "\n",
            "Classification Report on Test Set:\n",
            "                        precision    recall  f1-score   support\n",
            "\n",
            "         Billing Issue       0.90      0.91      0.91       377\n",
            "         Booking Issue       0.92      0.82      0.87       417\n",
            "Customer Service Issue       0.92      0.89      0.91       414\n",
            "        Facility Issue       0.89      0.88      0.88       352\n",
            "  Facility Unavailable       0.92      0.90      0.91       410\n",
            "    Food Quality Issue       0.91      0.91      0.91       362\n",
            "      Room Cleanliness       0.91      0.90      0.91       423\n",
            "   Room Facility Issue       0.88      0.90      0.89       341\n",
            "         Service Delay       0.82      0.90      0.86       435\n",
            "         Service Issue       0.88      0.89      0.88       333\n",
            "       Technical Issue       0.89      0.91      0.90       362\n",
            "\n",
            "              accuracy                           0.89      4226\n",
            "             macro avg       0.89      0.89      0.89      4226\n",
            "          weighted avg       0.89      0.89      0.89      4226\n",
            "\n",
            "\n",
            "Confusion Matrix on Test Set:\n",
            "[[344   3   4   4   0   0   3   6   4   3   6]\n",
            " [  4 341   6   5   3   3   5   3  39   5   3]\n",
            " [  5   1 368   8   4   5   5   1   7   4   6]\n",
            " [  3   6   3 309   2   4   6   4   5   7   3]\n",
            " [  4   5   6   5 368   2   8   3   5   4   0]\n",
            " [  5   2   2   6   3 331   1   2   2   2   6]\n",
            " [  5   4   2   4   4   2 382   7   7   4   2]\n",
            " [  3   2   1   1   6   7   1 306   6   2   6]\n",
            " [  2   5   5   5   3   5   4   6 393   3   4]\n",
            " [  3   0   0   1   6   2   3   6  10 296   6]\n",
            " [  4   2   2   1   3   4   3   2   4   8 329]]\n"
          ]
        }
      ],
      "source": [
        "model = FeedForwardClassifier(\n",
        "    input_dim=EMBEDDING_DIM,\n",
        "    hidden_1_dim=HIDDEN_LAYER_1_SIZE,\n",
        "    hidden_2_dim=HIDDEN_LAYER_2_SIZE,\n",
        "    num_classes=num_classes\n",
        ").to(device) # Move the model to the specified device\n",
        "\n",
        "criterion = nn.CrossEntropyLoss(weight=class_weights_tensor.to(device))\n",
        "optimizer = optim.Adam(model.parameters(), lr=0.001)\n",
        "\n",
        "\n",
        "print(\"\\nStarting Training for Baseline Model (using Pretrained Embeddings)...\")\n",
        "for epoch in range(N_EPOCHS):\n",
        "    train_loss, train_acc = train_model(model, train_loader, optimizer, criterion, device)\n",
        "    val_loss, val_acc, _, _ = evaluate_model(model, test_loader, criterion, device)\n",
        "\n",
        "    print(f'Epoch: {epoch+1:02} | Train Loss: {train_loss:.4f} | Train Acc: {train_acc*100:.2f}% | Val. Loss: {val_loss:.4f} | Val. Acc: {val_acc*100:.2f}%')\n",
        "\n",
        "    if val_loss < best_val_loss:\n",
        "        best_val_loss = val_loss\n",
        "        torch.save(model.state_dict(), 'baseline_ffnn_pretrained_model.pt')\n",
        "        print(f\"  --> Saved best model at Epoch {epoch+1}\")\n",
        "\n",
        "print(\"\\nEvaluating Baseline Model on Test Set (using Pretrained Embeddings)...\")\n",
        "model.load_state_dict(torch.load('baseline_ffnn_pretrained_model.pt'))\n",
        "test_loss, test_acc, test_preds, test_labels = evaluate_model(model, test_loader, criterion, device)\n",
        "\n",
        "print(f'\\nTest Loss: {test_loss:.4f} | Test Acc: {test_acc*100:.2f}%')\n",
        "print(\"\\nClassification Report on Test Set:\")\n",
        "print(classification_report(test_labels, test_preds, target_names=unique_categories, zero_division=0))\n",
        "print(\"\\nConfusion Matrix on Test Set:\")\n",
        "print(confusion_matrix(test_labels, test_preds))"
      ]
    },
    {
      "cell_type": "code",
      "execution_count": 50,
      "metadata": {
        "id": "Ydjer75GhaTw"
      },
      "outputs": [],
      "source": [
        "EMBEDDING_DIM = 300\n",
        "HIDDEN_DIM = 256\n",
        "N_LAYERS = 2\n",
        "BIDIRECTIONAL = True\n",
        "DROPOUT_RATE = 0.5\n",
        "N_EPOCHS = 20\n",
        "BATCH_SIZE = 32\n",
        "MAX_SEQUENCE_LENGTH = 250\n",
        "LEARNING_RATE = 0.001\n",
        "\n",
        "word_counts = Counter()\n",
        "for text in x_train:\n",
        "    word_counts.update(text.split())\n",
        "\n",
        "vocab = {'<pad>': 0, '<unk>': 1}\n",
        "for word, count in word_counts.most_common():\n",
        "    if word not in vocab:\n",
        "        vocab[word] = len(vocab)\n",
        "\n",
        "VOCAB_SIZE = len(vocab)\n",
        "PAD_IDX = vocab['<pad>']\n",
        "UNK_IDX = vocab['<unk>']\n",
        "\n",
        "embedding_matrix = np.zeros((VOCAB_SIZE, EMBEDDING_DIM), dtype=np.float32)\n",
        "\n",
        "for word, idx in vocab.items():\n",
        "    if word == '<pad>':\n",
        "        embedding_matrix[idx] = np.zeros(EMBEDDING_DIM)\n",
        "    elif word == '<unk>':\n",
        "        embedding_matrix[idx] = np.random.uniform(-0.25, 0.25, EMBEDDING_DIM)\n",
        "    else:\n",
        "        word_lower = word.lower()\n",
        "        if word_lower in pretrained_word2vec_model:\n",
        "            embedding_matrix[idx] = pretrained_word2vec_model[word_lower]\n",
        "        else:\n",
        "            embedding_matrix[idx] = np.random.uniform(-0.25, 0.25, EMBEDDING_DIM)\n",
        "\n",
        "embedding_matrix = torch.from_numpy(embedding_matrix)\n",
        "\n",
        "X_train_indices = text_to_indices(x_train, vocab, UNK_IDX, MAX_SEQUENCE_LENGTH, PAD_IDX)\n",
        "X_test_indices = text_to_indices(x_test, vocab, UNK_IDX, MAX_SEQUENCE_LENGTH, PAD_IDX)\n",
        "\n",
        "\n",
        "train_dataset_rnn = TextDataset(X_train_indices, y_train_encoded)\n",
        "test_dataset_rnn = TextDataset(X_test_indices, y_test_encoded)\n",
        "\n",
        "train_loader_rnn = DataLoader(train_dataset_rnn, batch_size=BATCH_SIZE, shuffle=True)\n",
        "test_loader_rnn = DataLoader(test_dataset_rnn, batch_size=BATCH_SIZE, shuffle=False)\n",
        "\n"
      ]
    },
    {
      "cell_type": "code",
      "execution_count": 51,
      "metadata": {
        "colab": {
          "base_uri": "https://localhost:8080/"
        },
        "id": "sAcuKoEDsnyM",
        "outputId": "1dcba921-2fb0-4481-d9b0-f1422e5e6a2b"
      },
      "outputs": [
        {
          "output_type": "stream",
          "name": "stdout",
          "text": [
            "RNNClassifier(\n",
            "  (embedding): Embedding(191, 300, padding_idx=0)\n",
            "  (rnn): RNN(300, 256, num_layers=2, batch_first=True, dropout=0.5, bidirectional=True)\n",
            "  (fc): Linear(in_features=512, out_features=11, bias=True)\n",
            "  (dropout): Dropout(p=0.5, inplace=False)\n",
            ")\n"
          ]
        }
      ],
      "source": [
        "model_rnn = RNNClassifier(\n",
        "    vocab_size=VOCAB_SIZE,\n",
        "    embedding_dim=EMBEDDING_DIM,\n",
        "    hidden_dim=HIDDEN_DIM,\n",
        "    num_classes=num_classes,\n",
        "    n_layers=N_LAYERS,\n",
        "    bidirectional=BIDIRECTIONAL,\n",
        "    dropout_rate=DROPOUT_RATE,\n",
        "    pad_idx=PAD_IDX,\n",
        "    pretrained_embedding_matrix=embedding_matrix\n",
        ").to(device)\n",
        "print(model_rnn)\n",
        "\n",
        "class_weights_np = class_weight.compute_class_weight(\n",
        "    'balanced',\n",
        "    classes=np.unique(y_train_encoded),\n",
        "    y=y_train_encoded\n",
        ")\n",
        "class_weights_tensor = torch.tensor(class_weights_np, dtype=torch.float).to(device)\n",
        "\n",
        "criterion_rnn = nn.CrossEntropyLoss(weight=class_weights_tensor)\n",
        "optimizer_rnn = optim.Adam(model_rnn.parameters(), lr=LEARNING_RATE)\n"
      ]
    },
    {
      "cell_type": "code",
      "execution_count": 53,
      "metadata": {
        "colab": {
          "base_uri": "https://localhost:8080/"
        },
        "id": "CukJI6TWsw28",
        "outputId": "6d468a63-c107-47ad-9c2b-59977a42244e"
      },
      "outputs": [
        {
          "output_type": "stream",
          "name": "stdout",
          "text": [
            "\n",
            "Starting Training for Simple RNN Model with Pre-trained Embeddings...\n",
            "Epoch: 01 | Train Loss: 2.8529 | Train Acc: 8.80% | Val. Loss: 2.6865 | Val. Acc: 7.88%\n",
            "Epoch: 02 | Train Loss: 2.8575 | Train Acc: 8.51% | Val. Loss: 2.6865 | Val. Acc: 7.88%\n",
            "Epoch: 03 | Train Loss: 2.8602 | Train Acc: 8.33% | Val. Loss: 2.6865 | Val. Acc: 7.88%\n",
            "Epoch: 04 | Train Loss: 2.8601 | Train Acc: 8.53% | Val. Loss: 2.6865 | Val. Acc: 7.88%\n",
            "Epoch: 05 | Train Loss: 2.8588 | Train Acc: 8.74% | Val. Loss: 2.6865 | Val. Acc: 7.88%\n",
            "Epoch: 06 | Train Loss: 2.8545 | Train Acc: 8.44% | Val. Loss: 2.6865 | Val. Acc: 7.88%\n",
            "Epoch: 07 | Train Loss: 2.8587 | Train Acc: 8.61% | Val. Loss: 2.6865 | Val. Acc: 7.88%\n",
            "Epoch: 08 | Train Loss: 2.8593 | Train Acc: 8.55% | Val. Loss: 2.6865 | Val. Acc: 7.88%\n",
            "Epoch: 09 | Train Loss: 2.8597 | Train Acc: 8.55% | Val. Loss: 2.6865 | Val. Acc: 7.88%\n",
            "Epoch: 10 | Train Loss: 2.8538 | Train Acc: 8.70% | Val. Loss: 2.6865 | Val. Acc: 7.88%\n",
            "Epoch: 11 | Train Loss: 2.8627 | Train Acc: 8.40% | Val. Loss: 2.6865 | Val. Acc: 7.88%\n",
            "Epoch: 12 | Train Loss: 2.8575 | Train Acc: 8.84% | Val. Loss: 2.6865 | Val. Acc: 7.88%\n",
            "Epoch: 13 | Train Loss: 2.8548 | Train Acc: 9.08% | Val. Loss: 2.6865 | Val. Acc: 7.88%\n",
            "Epoch: 14 | Train Loss: 2.8710 | Train Acc: 8.31% | Val. Loss: 2.6865 | Val. Acc: 7.88%\n",
            "Epoch: 15 | Train Loss: 2.8515 | Train Acc: 8.81% | Val. Loss: 2.6865 | Val. Acc: 7.88%\n",
            "Epoch: 16 | Train Loss: 2.8640 | Train Acc: 8.40% | Val. Loss: 2.6865 | Val. Acc: 7.88%\n",
            "Epoch: 17 | Train Loss: 2.8625 | Train Acc: 8.24% | Val. Loss: 2.6865 | Val. Acc: 7.88%\n",
            "Epoch: 18 | Train Loss: 2.8610 | Train Acc: 8.55% | Val. Loss: 2.6865 | Val. Acc: 7.88%\n",
            "Epoch: 19 | Train Loss: 2.8543 | Train Acc: 8.64% | Val. Loss: 2.6865 | Val. Acc: 7.88%\n",
            "Epoch: 20 | Train Loss: 2.8616 | Train Acc: 8.44% | Val. Loss: 2.6865 | Val. Acc: 7.88%\n",
            "\n",
            "Evaluating Simple RNN Model with Pre-trained Embeddings on Test Set...\n",
            "\n",
            "Test Loss: 0.5734 | Test Acc: 89.92%\n",
            "\n",
            "Classification Report on Test Set:\n",
            "                        precision    recall  f1-score   support\n",
            "\n",
            "         Billing Issue       0.90      0.91      0.91       377\n",
            "         Booking Issue       0.92      0.90      0.91       417\n",
            "Customer Service Issue       0.92      0.89      0.91       414\n",
            "        Facility Issue       0.89      0.88      0.88       352\n",
            "  Facility Unavailable       0.92      0.90      0.91       410\n",
            "    Food Quality Issue       0.91      0.91      0.91       362\n",
            "      Room Cleanliness       0.91      0.90      0.91       423\n",
            "   Room Facility Issue       0.88      0.90      0.89       341\n",
            "         Service Delay       0.88      0.90      0.89       435\n",
            "         Service Issue       0.88      0.89      0.88       333\n",
            "       Technical Issue       0.89      0.91      0.90       362\n",
            "\n",
            "              accuracy                           0.90      4226\n",
            "             macro avg       0.90      0.90      0.90      4226\n",
            "          weighted avg       0.90      0.90      0.90      4226\n",
            "\n",
            "\n",
            "Confusion Matrix on Test Set:\n",
            "[[344   4   4   4   0   0   3   6   3   3   6]\n",
            " [  4 374   6   5   3   3   5   3   6   5   3]\n",
            " [  5   1 368   8   4   5   5   1   7   4   6]\n",
            " [  3   6   3 309   2   4   6   4   5   7   3]\n",
            " [  4   5   6   5 368   2   8   3   5   4   0]\n",
            " [  5   2   2   6   3 331   1   2   2   2   6]\n",
            " [  5   4   2   4   4   2 382   7   7   4   2]\n",
            " [  3   3   1   1   6   7   1 306   5   2   6]\n",
            " [  2   5   5   5   3   5   4   6 393   3   4]\n",
            " [  3   1   0   1   6   2   3   6   9 296   6]\n",
            " [  4   3   2   1   3   4   3   2   3   8 329]]\n"
          ]
        }
      ],
      "source": [
        "print(\"\\nStarting Training for Simple RNN Model with Pre-trained Embeddings...\")\n",
        "for epoch in range(N_EPOCHS):\n",
        "    train_loss, train_acc = train_model(model_rnn, train_loader_rnn, optimizer_rnn, criterion_rnn, device)\n",
        "    val_loss, val_acc, _, _ = evaluate_model(model_rnn, test_loader_rnn, criterion_rnn, device)\n",
        "\n",
        "    print(f'Epoch: {epoch+1:02} | Train Loss: {train_loss:.4f} | Train Acc: {train_acc*100:.2f}% | Val. Loss: {val_loss:.4f} | Val. Acc: {val_acc*100:.2f}%')\n",
        "\n",
        "    if val_loss < best_val_loss:\n",
        "        best_val_loss = val_loss\n",
        "        torch.save(model_rnn.state_dict(), 'simple_rnn_pretrained_classifier_model.pt') # Changed save file name\n",
        "        print(f\"  --> Saved best model at Epoch {epoch+1}\")\n",
        "\n",
        "print(\"\\nEvaluating Simple RNN Model with Pre-trained Embeddings on Test Set...\")\n",
        "\n",
        "# Re-initialize the model with the correct embedding dimension before loading the state dict\n",
        "EMBEDDING_DIM_SAVED_MODEL = 300  # Set this to the embedding dimension used when saving the model\n",
        "model_rnn = RNNClassifier(\n",
        "    vocab_size=VOCAB_SIZE,\n",
        "    embedding_dim=EMBEDDING_DIM_SAVED_MODEL,\n",
        "    hidden_dim=HIDDEN_DIM,\n",
        "    num_classes=num_classes,\n",
        "    n_layers=N_LAYERS,\n",
        "    bidirectional=BIDIRECTIONAL,\n",
        "    dropout_rate=DROPOUT_RATE,\n",
        "    pad_idx=PAD_IDX,\n",
        "    pretrained_embedding_matrix=torch.zeros((VOCAB_SIZE, EMBEDDING_DIM_SAVED_MODEL)) # Use a dummy matrix, it will be overwritten\n",
        ").to(device)\n",
        "\n",
        "\n",
        "model_rnn.load_state_dict(torch.load('simple_rnn_pretrained_classifier_model.pt'))\n",
        "test_loss, test_acc, test_preds, test_labels = evaluate_model(model_rnn, test_loader_rnn, criterion_rnn, device)\n",
        "\n",
        "print(f'\\nTest Loss: {test_loss:.4f} | Test Acc: {test_acc*100:.2f}%')\n",
        "print(\"\\nClassification Report on Test Set:\")\n",
        "print(classification_report(test_labels, test_preds, target_names=unique_categories, zero_division=0))\n",
        "print(\"\\nConfusion Matrix on Test Set:\")\n",
        "print(confusion_matrix(test_labels, test_preds))"
      ]
    },
    {
      "cell_type": "code",
      "execution_count": 54,
      "metadata": {
        "id": "q06WrVjO4QfR"
      },
      "outputs": [],
      "source": [
        "\n",
        "EMBEDDING_DIM = 300\n",
        "HIDDEN_DIM = 256\n",
        "N_LAYERS = 2\n",
        "BIDIRECTIONAL = True\n",
        "DROPOUT_RATE = 0.5\n",
        "N_EPOCHS = 20\n",
        "BATCH_SIZE = 32\n",
        "MAX_SEQUENCE_LENGTH = 250\n",
        "LEARNING_RATE = 0.001"
      ]
    },
    {
      "cell_type": "code",
      "execution_count": 55,
      "metadata": {
        "id": "VzyUpcTlp8Ig"
      },
      "outputs": [],
      "source": [
        "word_counts = Counter()\n",
        "for text in x_train:\n",
        "    word_counts.update(text.split())\n",
        "\n",
        "vocab = {'<pad>': 0, '<unk>': 1}\n",
        "for word, count in word_counts.most_common():\n",
        "    if word not in vocab:\n",
        "        vocab[word] = len(vocab)\n",
        "\n",
        "VOCAB_SIZE = len(vocab)\n",
        "PAD_IDX = vocab['<pad>']\n",
        "UNK_IDX = vocab['<unk>']\n",
        "\n",
        "embedding_matrix = np.zeros((VOCAB_SIZE, EMBEDDING_DIM), dtype=np.float32)\n",
        "\n",
        "for word, idx in vocab.items():\n",
        "    if word == '<pad>':\n",
        "        embedding_matrix[idx] = np.zeros(EMBEDDING_DIM)\n",
        "    elif word == '<unk>':\n",
        "        embedding_matrix[idx] = np.random.uniform(-0.25, 0.25, EMBEDDING_DIM)\n",
        "    else:\n",
        "        word_lower = word.lower()\n",
        "        if word_lower in pretrained_word2vec_model:\n",
        "            embedding_matrix[idx] = pretrained_word2vec_model[word_lower]\n",
        "        else:\n",
        "            embedding_matrix[idx] = np.random.uniform(-0.25, 0.25, EMBEDDING_DIM)\n",
        "\n",
        "embedding_matrix = torch.from_numpy(embedding_matrix)\n",
        "\n",
        "X_train_indices = text_to_indices(x_train, vocab, UNK_IDX, MAX_SEQUENCE_LENGTH, PAD_IDX)\n",
        "X_test_indices = text_to_indices(x_test, vocab, UNK_IDX, MAX_SEQUENCE_LENGTH, PAD_IDX)\n",
        "\n",
        "\n",
        "\n",
        "\n",
        "train_dataset_rnn = TextDataset(X_train_indices, y_train_encoded)\n",
        "test_dataset_rnn = TextDataset(X_test_indices, y_test_encoded)\n",
        "\n",
        "train_loader_rnn = DataLoader(train_dataset_rnn, batch_size=BATCH_SIZE, shuffle=True)\n",
        "test_loader_rnn = DataLoader(test_dataset_rnn, batch_size=BATCH_SIZE, shuffle=False)\n",
        "\n"
      ]
    },
    {
      "cell_type": "code",
      "execution_count": 56,
      "metadata": {
        "colab": {
          "base_uri": "https://localhost:8080/"
        },
        "id": "qSlClBP5jWut",
        "outputId": "59c778ca-8fc8-4602-b245-35a8f5e91303"
      },
      "outputs": [
        {
          "output_type": "stream",
          "name": "stdout",
          "text": [
            "\n",
            "Simple Recurrent Neural Network (RNN) Model with Pre-trained Embeddings Architecture:\n",
            "RNNClassifier(\n",
            "  (embedding): Embedding(191, 300, padding_idx=0)\n",
            "  (rnn): RNN(300, 256, num_layers=2, batch_first=True, dropout=0.5, bidirectional=True)\n",
            "  (fc): Linear(in_features=512, out_features=11, bias=True)\n",
            "  (dropout): Dropout(p=0.5, inplace=False)\n",
            ")\n"
          ]
        }
      ],
      "source": [
        "model_rnn = RNNClassifier(\n",
        "    vocab_size=VOCAB_SIZE,\n",
        "    embedding_dim=EMBEDDING_DIM,\n",
        "    hidden_dim=HIDDEN_DIM,\n",
        "    num_classes=num_classes,\n",
        "    n_layers=N_LAYERS,\n",
        "    bidirectional=BIDIRECTIONAL,\n",
        "    dropout_rate=DROPOUT_RATE,\n",
        "    pad_idx=PAD_IDX,\n",
        "    pretrained_embedding_matrix=embedding_matrix # Pass the prepared embedding matrix\n",
        ").to(device)\n",
        "\n",
        "print(\"\\nSimple Recurrent Neural Network (RNN) Model with Pre-trained Embeddings Architecture:\")\n",
        "print(model_rnn)\n",
        "\n",
        "# --- 8. Training and Evaluation (Reusing functions, using new model and loaders) ---\n",
        "\n",
        "class_weights_np = class_weight.compute_class_weight(\n",
        "    'balanced',\n",
        "    classes=np.unique(y_train_encoded),\n",
        "    y=y_train_encoded\n",
        ")\n",
        "class_weights_tensor = torch.tensor(class_weights_np, dtype=torch.float).to(device)\n",
        "\n",
        "criterion_rnn = nn.CrossEntropyLoss(weight=class_weights_tensor)\n",
        "optimizer_rnn = optim.Adam(model_rnn.parameters(), lr=LEARNING_RATE)"
      ]
    },
    {
      "cell_type": "code",
      "execution_count": 57,
      "metadata": {
        "colab": {
          "base_uri": "https://localhost:8080/"
        },
        "id": "Nh5TcX1w5KqW",
        "outputId": "777a8392-7bbe-44c6-acb7-7e1892f39944"
      },
      "outputs": [
        {
          "output_type": "stream",
          "name": "stdout",
          "text": [
            "\n",
            "Starting Training for Simple RNN Model with Pre-trained Embeddings...\n",
            "Epoch: 01 | Train Loss: 0.8388 | Train Acc: 83.78% | Val. Loss: 0.6249 | Val. Acc: 89.73%\n",
            "Epoch: 02 | Train Loss: 0.6617 | Train Acc: 89.29% | Val. Loss: 0.5850 | Val. Acc: 89.92%\n",
            "Epoch: 03 | Train Loss: 0.6353 | Train Acc: 89.72% | Val. Loss: 0.5984 | Val. Acc: 89.07%\n",
            "Epoch: 04 | Train Loss: 0.6278 | Train Acc: 89.80% | Val. Loss: 0.5961 | Val. Acc: 89.92%\n",
            "Epoch: 05 | Train Loss: 0.6293 | Train Acc: 89.76% | Val. Loss: 0.5897 | Val. Acc: 89.92%\n",
            "Epoch: 06 | Train Loss: 0.6267 | Train Acc: 89.82% | Val. Loss: 0.5964 | Val. Acc: 89.92%\n",
            "Epoch: 07 | Train Loss: 0.6237 | Train Acc: 89.82% | Val. Loss: 0.5950 | Val. Acc: 89.92%\n",
            "Epoch: 08 | Train Loss: 0.6416 | Train Acc: 89.42% | Val. Loss: 0.6042 | Val. Acc: 89.92%\n",
            "Epoch: 09 | Train Loss: 0.6296 | Train Acc: 89.76% | Val. Loss: 0.5910 | Val. Acc: 89.92%\n",
            "Epoch: 10 | Train Loss: 0.6258 | Train Acc: 89.86% | Val. Loss: 0.5933 | Val. Acc: 89.92%\n",
            "Epoch: 11 | Train Loss: 0.6257 | Train Acc: 89.88% | Val. Loss: 0.5894 | Val. Acc: 89.92%\n",
            "Epoch: 12 | Train Loss: 0.6219 | Train Acc: 89.85% | Val. Loss: 0.5855 | Val. Acc: 89.92%\n",
            "Epoch: 13 | Train Loss: 0.6195 | Train Acc: 89.88% | Val. Loss: 0.6038 | Val. Acc: 89.92%\n",
            "Epoch: 14 | Train Loss: 0.6246 | Train Acc: 89.85% | Val. Loss: 0.6014 | Val. Acc: 89.92%\n",
            "Epoch: 15 | Train Loss: 0.6222 | Train Acc: 89.89% | Val. Loss: 0.5901 | Val. Acc: 89.92%\n",
            "Epoch: 16 | Train Loss: 0.6204 | Train Acc: 89.88% | Val. Loss: 0.5815 | Val. Acc: 89.92%\n",
            "Epoch: 17 | Train Loss: 0.6206 | Train Acc: 89.88% | Val. Loss: 0.5909 | Val. Acc: 89.92%\n",
            "Epoch: 18 | Train Loss: 0.6205 | Train Acc: 89.87% | Val. Loss: 0.5889 | Val. Acc: 89.92%\n",
            "Epoch: 19 | Train Loss: 0.6275 | Train Acc: 89.85% | Val. Loss: 0.6111 | Val. Acc: 89.92%\n",
            "Epoch: 20 | Train Loss: 0.6238 | Train Acc: 89.81% | Val. Loss: 0.5887 | Val. Acc: 89.92%\n",
            "\n",
            "Evaluating Simple RNN Model with Pre-trained Embeddings on Test Set...\n",
            "\n",
            "Test Loss: 0.5734 | Test Acc: 89.92%\n",
            "\n",
            "Classification Report on Test Set:\n",
            "                        precision    recall  f1-score   support\n",
            "\n",
            "         Billing Issue       0.90      0.91      0.91       377\n",
            "         Booking Issue       0.92      0.90      0.91       417\n",
            "Customer Service Issue       0.92      0.89      0.91       414\n",
            "        Facility Issue       0.89      0.88      0.88       352\n",
            "  Facility Unavailable       0.92      0.90      0.91       410\n",
            "    Food Quality Issue       0.91      0.91      0.91       362\n",
            "      Room Cleanliness       0.91      0.90      0.91       423\n",
            "   Room Facility Issue       0.88      0.90      0.89       341\n",
            "         Service Delay       0.88      0.90      0.89       435\n",
            "         Service Issue       0.88      0.89      0.88       333\n",
            "       Technical Issue       0.89      0.91      0.90       362\n",
            "\n",
            "              accuracy                           0.90      4226\n",
            "             macro avg       0.90      0.90      0.90      4226\n",
            "          weighted avg       0.90      0.90      0.90      4226\n",
            "\n",
            "\n",
            "Confusion Matrix on Test Set:\n",
            "[[344   4   4   4   0   0   3   6   3   3   6]\n",
            " [  4 374   6   5   3   3   5   3   6   5   3]\n",
            " [  5   1 368   8   4   5   5   1   7   4   6]\n",
            " [  3   6   3 309   2   4   6   4   5   7   3]\n",
            " [  4   5   6   5 368   2   8   3   5   4   0]\n",
            " [  5   2   2   6   3 331   1   2   2   2   6]\n",
            " [  5   4   2   4   4   2 382   7   7   4   2]\n",
            " [  3   3   1   1   6   7   1 306   5   2   6]\n",
            " [  2   5   5   5   3   5   4   6 393   3   4]\n",
            " [  3   1   0   1   6   2   3   6   9 296   6]\n",
            " [  4   3   2   1   3   4   3   2   3   8 329]]\n"
          ]
        }
      ],
      "source": [
        "\n",
        "print(\"\\nStarting Training for Simple RNN Model with Pre-trained Embeddings...\")\n",
        "for epoch in range(N_EPOCHS):\n",
        "    train_loss, train_acc = train_model(model_rnn, train_loader_rnn, optimizer_rnn, criterion_rnn, device)\n",
        "    val_loss, val_acc, _, _ = evaluate_model(model_rnn, test_loader_rnn, criterion_rnn, device)\n",
        "\n",
        "    print(f'Epoch: {epoch+1:02} | Train Loss: {train_loss:.4f} | Train Acc: {train_acc*100:.2f}% | Val. Loss: {val_loss:.4f} | Val. Acc: {val_acc*100:.2f}%')\n",
        "\n",
        "    if val_loss < best_val_loss:\n",
        "        best_val_loss = val_loss\n",
        "        torch.save(model_rnn.state_dict(), 'simple_rnn_pretrained_classifier_model.pt') # Changed save file name\n",
        "        print(f\"  --> Saved best model at Epoch {epoch+1}\")\n",
        "\n",
        "print(\"\\nEvaluating Simple RNN Model with Pre-trained Embeddings on Test Set...\")\n",
        "model_rnn.load_state_dict(torch.load('simple_rnn_pretrained_classifier_model.pt'))\n",
        "test_loss, test_acc, test_preds, test_labels = evaluate_model(model_rnn, test_loader_rnn, criterion_rnn, device)\n",
        "\n",
        "print(f'\\nTest Loss: {test_loss:.4f} | Test Acc: {test_acc*100:.2f}%')\n",
        "print(\"\\nClassification Report on Test Set:\")\n",
        "print(classification_report(test_labels, test_preds, target_names=unique_categories, zero_division=0))\n",
        "print(\"\\nConfusion Matrix on Test Set:\")\n",
        "print(confusion_matrix(test_labels, test_preds))"
      ]
    },
    {
      "cell_type": "code",
      "execution_count": 57,
      "metadata": {
        "id": "_ohXPieMJwKK"
      },
      "outputs": [],
      "source": []
    },
    {
      "cell_type": "code",
      "execution_count": 57,
      "metadata": {
        "id": "Xe0Stk0PUODr"
      },
      "outputs": [],
      "source": []
    },
    {
      "cell_type": "code",
      "execution_count": 58,
      "metadata": {
        "colab": {
          "base_uri": "https://localhost:8080/"
        },
        "id": "da7707ff",
        "outputId": "7cb18f42-8263-4ace-9a92-f6c86f274050"
      },
      "outputs": [
        {
          "output_type": "execute_result",
          "data": {
            "text/plain": [
              "<All keys matched successfully>"
            ]
          },
          "metadata": {},
          "execution_count": 58
        }
      ],
      "source": [
        "def predict_complaint_category(sentence, model, vocab, unk_idx, max_seq_len, pad_idx, label_encoder, device):\n",
        "\n",
        "    lemmatizer = WordNetLemmatizer()\n",
        "    sentence = sentence.lower()\n",
        "    sentence = re.sub(r'[^\\w\\s]', '', sentence)\n",
        "    sentence = \" \".join([i for i in sentence.split() if i not in stopwords])\n",
        "    sentence = \" \".join([lemmatizer.lemmatize(i) for i in sentence.split()])\n",
        "    indices = [vocab.get(token, unk_idx) for token in sentence.split()]\n",
        "\n",
        "    if len(indices) < max_seq_len:\n",
        "        indices.extend([pad_idx] * (max_seq_len - len(indices)))\n",
        "    elif len(indices) > max_seq_len:\n",
        "        indices = indices[:max_seq_len]\n",
        "    sequence_tensor = torch.tensor(indices, dtype=torch.long).unsqueeze(0).to(device)\n",
        "\n",
        "    model.eval()\n",
        "\n",
        "    with torch.no_grad():\n",
        "        prediction = model(sequence_tensor)\n",
        "\n",
        "    _, predicted_idx = torch.max(prediction, 1)\n",
        "    predicted_idx = predicted_idx.item()\n",
        "\n",
        "    predicted_category = label_encoder.inverse_transform([predicted_idx])[0]\n",
        "\n",
        "    return predicted_category\n",
        "\n",
        "best_model_path = 'lstm_classifier_model.pt'\n",
        "model_lstm.load_state_dict(torch.load(best_model_path))\n"
      ]
    },
    {
      "cell_type": "code",
      "execution_count": 60,
      "metadata": {
        "colab": {
          "base_uri": "https://localhost:8080/"
        },
        "id": "fuHAyMYjdu5r",
        "outputId": "8a565065-1a49-4cb3-990f-a9aeb10909f4"
      },
      "outputs": [
        {
          "output_type": "stream",
          "name": "stdout",
          "text": [
            "Give the input:food is spoiled\n",
            "The predicted category for the complaint 'food is spoiled' is: Food Quality Issue\n"
          ]
        }
      ],
      "source": [
        "new_complaint = input(\"Give the input:\")\n",
        "predicted_category = predict_complaint_category(\n",
        "    new_complaint,\n",
        "    model_lstm,\n",
        "    vocab,\n",
        "    UNK_IDX,\n",
        "    MAX_SEQUENCE_LENGTH,\n",
        "    PAD_IDX,\n",
        "    label_encoder,\n",
        "    device\n",
        ")\n",
        "\n",
        "print(f\"The predicted category for the complaint '{new_complaint}' is: {predicted_category}\")"
      ]
    },
    {
      "cell_type": "code",
      "execution_count": 59,
      "metadata": {
        "id": "w02JRnbsd0d-"
      },
      "outputs": [],
      "source": []
    },
    {
      "cell_type": "code",
      "execution_count": 59,
      "metadata": {
        "id": "gPHC0o0ZfEls"
      },
      "outputs": [],
      "source": []
    }
  ],
  "metadata": {
    "accelerator": "GPU",
    "colab": {
      "gpuType": "T4",
      "provenance": []
    },
    "kernelspec": {
      "display_name": "Python 3",
      "name": "python3"
    },
    "language_info": {
      "name": "python"
    }
  },
  "nbformat": 4,
  "nbformat_minor": 0
}